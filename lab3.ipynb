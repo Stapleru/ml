{
  "cells": [
    {
      "cell_type": "markdown",
      "metadata": {
        "id": "view-in-github",
        "colab_type": "text"
      },
      "source": [
        "<a href=\"https://colab.research.google.com/github/Stapleru/ml/blob/main/lab3.ipynb\" target=\"_parent\"><img src=\"https://colab.research.google.com/assets/colab-badge.svg\" alt=\"Open In Colab\"/></a>"
      ]
    },
    {
      "cell_type": "markdown",
      "metadata": {
        "id": "ieBCT0EzFK4S"
      },
      "source": [
        "# Импорт всего необходимого"
      ]
    },
    {
      "cell_type": "code",
      "execution_count": 151,
      "metadata": {
        "id": "3Z_yuYDoE6lK"
      },
      "outputs": [],
      "source": [
        "\n",
        "import warnings\n",
        "warnings.filterwarnings('always')  # \"error\", \"ignore\", \"always\", \"default\", \"module\" or \"once\"\n",
        "\n",
        "import pandas as pd\n",
        "import numpy as np\n",
        "import seaborn as sns                       #visualisation\n",
        "import matplotlib.pyplot as plt             #visualisation\n",
        "from sklearn import preprocessing\n",
        "import random\n",
        "le = preprocessing.LabelEncoder()\n",
        "\n",
        "from sklearn.linear_model import LogisticRegression\n",
        "from sklearn.neighbors import KNeighborsClassifier\n",
        "from sklearn.svm import SVC\n",
        "from sklearn.naive_bayes import BernoulliNB\n",
        "from sklearn.tree import DecisionTreeClassifier\n",
        "from sklearn.ensemble import RandomForestClassifier\n",
        "\n",
        "from sklearn.model_selection import train_test_split, StratifiedKFold\n",
        "from sklearn.model_selection import RandomizedSearchCV, GridSearchCV\n",
        "from sklearn import metrics\n",
        "from sklearn.metrics import classification_report, confusion_matrix, roc_curve\n",
        "from xgboost import XGBClassifier\n",
        "from imblearn.over_sampling import SMOTE\n",
        "from datetime import datetime\n",
        "%matplotlib inline     "
      ]
    },
    {
      "cell_type": "markdown",
      "metadata": {
        "id": "5ZLZVMGiFRCC"
      },
      "source": [
        "#Проверка таблицы"
      ]
    },
    {
      "cell_type": "code",
      "execution_count": 152,
      "metadata": {
        "id": "A0lGjhQ2FQuP",
        "colab": {
          "base_uri": "https://localhost:8080/"
        },
        "outputId": "787849db-2e8c-45b3-c150-5bd1375db154"
      },
      "outputs": [
        {
          "output_type": "stream",
          "name": "stderr",
          "text": [
            "C:\\Users\\Stapler\\AppData\\Local\\Temp\\ipykernel_20616\\4040520011.py:5: DtypeWarning: Columns (19) have mixed types. Specify dtype option on import or set low_memory=False.\n",
            "  df = pd.read_csv(\"../data/genres_v2.csv\")\n"
          ]
        }
      ],
      "source": [
        "#from google.colab import drive\n",
        "#drive.mount('/content/drive/')\n",
        "import os\n",
        "#os.chdir(\"/content/drive/My Drive/Colab Notebooks\")\n",
        "df = pd.read_csv(\"../data/genres_v2.csv\")"
      ]
    },
    {
      "cell_type": "code",
      "execution_count": 153,
      "metadata": {
        "id": "kCGiUYC0Frfj",
        "colab": {
          "base_uri": "https://localhost:8080/",
          "height": 394
        },
        "outputId": "be69072d-5c2f-41f4-8680-8f806845e8ff"
      },
      "outputs": [
        {
          "output_type": "execute_result",
          "data": {
            "text/plain": [
              "   danceability  energy  key  loudness  mode  speechiness  acousticness  \\\n",
              "0         0.831   0.814    2    -7.364     1       0.4200        0.0598   \n",
              "1         0.719   0.493    8    -7.230     1       0.0794        0.4010   \n",
              "2         0.850   0.893    5    -4.783     1       0.0623        0.0138   \n",
              "3         0.476   0.781    0    -4.710     1       0.1030        0.0237   \n",
              "4         0.798   0.624    2    -7.668     1       0.2930        0.2170   \n",
              "\n",
              "   instrumentalness  liveness  valence  ...                      id  \\\n",
              "0          0.013400    0.0556   0.3890  ...  2Vc6NJ9PW9gD9q343XFRKx   \n",
              "1          0.000000    0.1180   0.1240  ...  7pgJBLVz5VmnL7uGHmRj6p   \n",
              "2          0.000004    0.3720   0.0391  ...  0vSWgAlfpye0WCGeNmuNhy   \n",
              "3          0.000000    0.1140   0.1750  ...  0VSXnJqQkwuH2ei1nOQ1nu   \n",
              "4          0.000000    0.1660   0.5910  ...  4jCeguq9rMTlbMmPHuO7S3   \n",
              "\n",
              "                                    uri  \\\n",
              "0  spotify:track:2Vc6NJ9PW9gD9q343XFRKx   \n",
              "1  spotify:track:7pgJBLVz5VmnL7uGHmRj6p   \n",
              "2  spotify:track:0vSWgAlfpye0WCGeNmuNhy   \n",
              "3  spotify:track:0VSXnJqQkwuH2ei1nOQ1nu   \n",
              "4  spotify:track:4jCeguq9rMTlbMmPHuO7S3   \n",
              "\n",
              "                                          track_href  \\\n",
              "0  https://api.spotify.com/v1/tracks/2Vc6NJ9PW9gD...   \n",
              "1  https://api.spotify.com/v1/tracks/7pgJBLVz5Vmn...   \n",
              "2  https://api.spotify.com/v1/tracks/0vSWgAlfpye0...   \n",
              "3  https://api.spotify.com/v1/tracks/0VSXnJqQkwuH...   \n",
              "4  https://api.spotify.com/v1/tracks/4jCeguq9rMTl...   \n",
              "\n",
              "                                        analysis_url duration_ms  \\\n",
              "0  https://api.spotify.com/v1/audio-analysis/2Vc6...      124539   \n",
              "1  https://api.spotify.com/v1/audio-analysis/7pgJ...      224427   \n",
              "2  https://api.spotify.com/v1/audio-analysis/0vSW...       98821   \n",
              "3  https://api.spotify.com/v1/audio-analysis/0VSX...      123661   \n",
              "4  https://api.spotify.com/v1/audio-analysis/4jCe...      123298   \n",
              "\n",
              "  time_signature      genre                                      song_name  \\\n",
              "0              4  Dark Trap                            Mercury: Retrograde   \n",
              "1              4  Dark Trap                                      Pathology   \n",
              "2              4  Dark Trap                                       Symbiote   \n",
              "3              3  Dark Trap  ProductOfDrugs (Prod. The Virus and Antidote)   \n",
              "4              4  Dark Trap                                          Venom   \n",
              "\n",
              "  Unnamed: 0 title  \n",
              "0        NaN   NaN  \n",
              "1        NaN   NaN  \n",
              "2        NaN   NaN  \n",
              "3        NaN   NaN  \n",
              "4        NaN   NaN  \n",
              "\n",
              "[5 rows x 22 columns]"
            ],
            "text/html": [
              "<div>\n",
              "<style scoped>\n",
              "    .dataframe tbody tr th:only-of-type {\n",
              "        vertical-align: middle;\n",
              "    }\n",
              "\n",
              "    .dataframe tbody tr th {\n",
              "        vertical-align: top;\n",
              "    }\n",
              "\n",
              "    .dataframe thead th {\n",
              "        text-align: right;\n",
              "    }\n",
              "</style>\n",
              "<table border=\"1\" class=\"dataframe\">\n",
              "  <thead>\n",
              "    <tr style=\"text-align: right;\">\n",
              "      <th></th>\n",
              "      <th>danceability</th>\n",
              "      <th>energy</th>\n",
              "      <th>key</th>\n",
              "      <th>loudness</th>\n",
              "      <th>mode</th>\n",
              "      <th>speechiness</th>\n",
              "      <th>acousticness</th>\n",
              "      <th>instrumentalness</th>\n",
              "      <th>liveness</th>\n",
              "      <th>valence</th>\n",
              "      <th>...</th>\n",
              "      <th>id</th>\n",
              "      <th>uri</th>\n",
              "      <th>track_href</th>\n",
              "      <th>analysis_url</th>\n",
              "      <th>duration_ms</th>\n",
              "      <th>time_signature</th>\n",
              "      <th>genre</th>\n",
              "      <th>song_name</th>\n",
              "      <th>Unnamed: 0</th>\n",
              "      <th>title</th>\n",
              "    </tr>\n",
              "  </thead>\n",
              "  <tbody>\n",
              "    <tr>\n",
              "      <th>0</th>\n",
              "      <td>0.831</td>\n",
              "      <td>0.814</td>\n",
              "      <td>2</td>\n",
              "      <td>-7.364</td>\n",
              "      <td>1</td>\n",
              "      <td>0.4200</td>\n",
              "      <td>0.0598</td>\n",
              "      <td>0.013400</td>\n",
              "      <td>0.0556</td>\n",
              "      <td>0.3890</td>\n",
              "      <td>...</td>\n",
              "      <td>2Vc6NJ9PW9gD9q343XFRKx</td>\n",
              "      <td>spotify:track:2Vc6NJ9PW9gD9q343XFRKx</td>\n",
              "      <td>https://api.spotify.com/v1/tracks/2Vc6NJ9PW9gD...</td>\n",
              "      <td>https://api.spotify.com/v1/audio-analysis/2Vc6...</td>\n",
              "      <td>124539</td>\n",
              "      <td>4</td>\n",
              "      <td>Dark Trap</td>\n",
              "      <td>Mercury: Retrograde</td>\n",
              "      <td>NaN</td>\n",
              "      <td>NaN</td>\n",
              "    </tr>\n",
              "    <tr>\n",
              "      <th>1</th>\n",
              "      <td>0.719</td>\n",
              "      <td>0.493</td>\n",
              "      <td>8</td>\n",
              "      <td>-7.230</td>\n",
              "      <td>1</td>\n",
              "      <td>0.0794</td>\n",
              "      <td>0.4010</td>\n",
              "      <td>0.000000</td>\n",
              "      <td>0.1180</td>\n",
              "      <td>0.1240</td>\n",
              "      <td>...</td>\n",
              "      <td>7pgJBLVz5VmnL7uGHmRj6p</td>\n",
              "      <td>spotify:track:7pgJBLVz5VmnL7uGHmRj6p</td>\n",
              "      <td>https://api.spotify.com/v1/tracks/7pgJBLVz5Vmn...</td>\n",
              "      <td>https://api.spotify.com/v1/audio-analysis/7pgJ...</td>\n",
              "      <td>224427</td>\n",
              "      <td>4</td>\n",
              "      <td>Dark Trap</td>\n",
              "      <td>Pathology</td>\n",
              "      <td>NaN</td>\n",
              "      <td>NaN</td>\n",
              "    </tr>\n",
              "    <tr>\n",
              "      <th>2</th>\n",
              "      <td>0.850</td>\n",
              "      <td>0.893</td>\n",
              "      <td>5</td>\n",
              "      <td>-4.783</td>\n",
              "      <td>1</td>\n",
              "      <td>0.0623</td>\n",
              "      <td>0.0138</td>\n",
              "      <td>0.000004</td>\n",
              "      <td>0.3720</td>\n",
              "      <td>0.0391</td>\n",
              "      <td>...</td>\n",
              "      <td>0vSWgAlfpye0WCGeNmuNhy</td>\n",
              "      <td>spotify:track:0vSWgAlfpye0WCGeNmuNhy</td>\n",
              "      <td>https://api.spotify.com/v1/tracks/0vSWgAlfpye0...</td>\n",
              "      <td>https://api.spotify.com/v1/audio-analysis/0vSW...</td>\n",
              "      <td>98821</td>\n",
              "      <td>4</td>\n",
              "      <td>Dark Trap</td>\n",
              "      <td>Symbiote</td>\n",
              "      <td>NaN</td>\n",
              "      <td>NaN</td>\n",
              "    </tr>\n",
              "    <tr>\n",
              "      <th>3</th>\n",
              "      <td>0.476</td>\n",
              "      <td>0.781</td>\n",
              "      <td>0</td>\n",
              "      <td>-4.710</td>\n",
              "      <td>1</td>\n",
              "      <td>0.1030</td>\n",
              "      <td>0.0237</td>\n",
              "      <td>0.000000</td>\n",
              "      <td>0.1140</td>\n",
              "      <td>0.1750</td>\n",
              "      <td>...</td>\n",
              "      <td>0VSXnJqQkwuH2ei1nOQ1nu</td>\n",
              "      <td>spotify:track:0VSXnJqQkwuH2ei1nOQ1nu</td>\n",
              "      <td>https://api.spotify.com/v1/tracks/0VSXnJqQkwuH...</td>\n",
              "      <td>https://api.spotify.com/v1/audio-analysis/0VSX...</td>\n",
              "      <td>123661</td>\n",
              "      <td>3</td>\n",
              "      <td>Dark Trap</td>\n",
              "      <td>ProductOfDrugs (Prod. The Virus and Antidote)</td>\n",
              "      <td>NaN</td>\n",
              "      <td>NaN</td>\n",
              "    </tr>\n",
              "    <tr>\n",
              "      <th>4</th>\n",
              "      <td>0.798</td>\n",
              "      <td>0.624</td>\n",
              "      <td>2</td>\n",
              "      <td>-7.668</td>\n",
              "      <td>1</td>\n",
              "      <td>0.2930</td>\n",
              "      <td>0.2170</td>\n",
              "      <td>0.000000</td>\n",
              "      <td>0.1660</td>\n",
              "      <td>0.5910</td>\n",
              "      <td>...</td>\n",
              "      <td>4jCeguq9rMTlbMmPHuO7S3</td>\n",
              "      <td>spotify:track:4jCeguq9rMTlbMmPHuO7S3</td>\n",
              "      <td>https://api.spotify.com/v1/tracks/4jCeguq9rMTl...</td>\n",
              "      <td>https://api.spotify.com/v1/audio-analysis/4jCe...</td>\n",
              "      <td>123298</td>\n",
              "      <td>4</td>\n",
              "      <td>Dark Trap</td>\n",
              "      <td>Venom</td>\n",
              "      <td>NaN</td>\n",
              "      <td>NaN</td>\n",
              "    </tr>\n",
              "  </tbody>\n",
              "</table>\n",
              "<p>5 rows × 22 columns</p>\n",
              "</div>"
            ]
          },
          "metadata": {},
          "execution_count": 153
        }
      ],
      "source": [
        "#df = pd.read_csv(\"genres_v2.csv\")\n",
        "df.head(5)      "
      ]
    },
    {
      "cell_type": "code",
      "execution_count": 154,
      "metadata": {
        "id": "EWKu_I56GDRt",
        "colab": {
          "base_uri": "https://localhost:8080/"
        },
        "outputId": "78e854d9-5235-4b71-a9d6-637fae4921be"
      },
      "outputs": [
        {
          "output_type": "stream",
          "name": "stdout",
          "text": [
            "<class 'pandas.core.frame.DataFrame'>\n",
            "RangeIndex: 42305 entries, 0 to 42304\n",
            "Data columns (total 22 columns):\n",
            " #   Column            Non-Null Count  Dtype  \n",
            "---  ------            --------------  -----  \n",
            " 0   danceability      42305 non-null  float64\n",
            " 1   energy            42305 non-null  float64\n",
            " 2   key               42305 non-null  int64  \n",
            " 3   loudness          42305 non-null  float64\n",
            " 4   mode              42305 non-null  int64  \n",
            " 5   speechiness       42305 non-null  float64\n",
            " 6   acousticness      42305 non-null  float64\n",
            " 7   instrumentalness  42305 non-null  float64\n",
            " 8   liveness          42305 non-null  float64\n",
            " 9   valence           42305 non-null  float64\n",
            " 10  tempo             42305 non-null  float64\n",
            " 11  type              42305 non-null  object \n",
            " 12  id                42305 non-null  object \n",
            " 13  uri               42305 non-null  object \n",
            " 14  track_href        42305 non-null  object \n",
            " 15  analysis_url      42305 non-null  object \n",
            " 16  duration_ms       42305 non-null  int64  \n",
            " 17  time_signature    42305 non-null  int64  \n",
            " 18  genre             42305 non-null  object \n",
            " 19  song_name         21519 non-null  object \n",
            " 20  Unnamed: 0        20780 non-null  float64\n",
            " 21  title             20780 non-null  object \n",
            "dtypes: float64(10), int64(4), object(8)\n",
            "memory usage: 7.1+ MB\n"
          ]
        }
      ],
      "source": [
        "df.info()"
      ]
    },
    {
      "cell_type": "markdown",
      "metadata": {
        "id": "ZtQO1AjvKMhO"
      },
      "source": [
        "# Стоит отбросить ненужные столбцы"
      ]
    },
    {
      "cell_type": "code",
      "execution_count": 155,
      "metadata": {
        "id": "9ZloUuvGGhAC",
        "colab": {
          "base_uri": "https://localhost:8080/",
          "height": 300
        },
        "outputId": "cf3cacd7-066a-494c-cb2b-b883501c3645"
      },
      "outputs": [
        {
          "output_type": "execute_result",
          "data": {
            "text/plain": [
              "       danceability        energy           key      loudness          mode  \\\n",
              "count  42305.000000  42305.000000  42305.000000  42305.000000  42305.000000   \n",
              "mean       0.639364      0.762516      5.370240     -6.465442      0.549462   \n",
              "std        0.156617      0.183823      3.666145      2.941165      0.497553   \n",
              "min        0.065100      0.000243      0.000000    -33.357000      0.000000   \n",
              "25%        0.524000      0.632000      1.000000     -8.161000      0.000000   \n",
              "50%        0.646000      0.803000      6.000000     -6.234000      1.000000   \n",
              "75%        0.766000      0.923000      9.000000     -4.513000      1.000000   \n",
              "max        0.988000      1.000000     11.000000      3.148000      1.000000   \n",
              "\n",
              "        speechiness  acousticness  instrumentalness      liveness  \\\n",
              "count  42305.000000  42305.000000      42305.000000  42305.000000   \n",
              "mean       0.136561      0.096160          0.283048      0.214079   \n",
              "std        0.126168      0.170827          0.370791      0.175576   \n",
              "min        0.022700      0.000001          0.000000      0.010700   \n",
              "25%        0.049100      0.001730          0.000000      0.099600   \n",
              "50%        0.075500      0.016400          0.005940      0.135000   \n",
              "75%        0.193000      0.107000          0.722000      0.294000   \n",
              "max        0.946000      0.988000          0.989000      0.988000   \n",
              "\n",
              "            valence         tempo    duration_ms  time_signature    Unnamed: 0  \n",
              "count  42305.000000  42305.000000   42305.000000    42305.000000  20780.000000  \n",
              "mean       0.357101    147.474056  250865.846685        3.972580  10483.970645  \n",
              "std        0.233200     23.844623  102957.713571        0.268342   6052.359519  \n",
              "min        0.018700     57.967000   25600.000000        1.000000      0.000000  \n",
              "25%        0.161000    129.931000  179840.000000        4.000000   5255.750000  \n",
              "50%        0.322000    144.973000  224760.000000        4.000000  10479.500000  \n",
              "75%        0.522000    161.464000  301133.000000        4.000000  15709.250000  \n",
              "max        0.988000    220.290000  913052.000000        5.000000  20999.000000  "
            ],
            "text/html": [
              "<div>\n",
              "<style scoped>\n",
              "    .dataframe tbody tr th:only-of-type {\n",
              "        vertical-align: middle;\n",
              "    }\n",
              "\n",
              "    .dataframe tbody tr th {\n",
              "        vertical-align: top;\n",
              "    }\n",
              "\n",
              "    .dataframe thead th {\n",
              "        text-align: right;\n",
              "    }\n",
              "</style>\n",
              "<table border=\"1\" class=\"dataframe\">\n",
              "  <thead>\n",
              "    <tr style=\"text-align: right;\">\n",
              "      <th></th>\n",
              "      <th>danceability</th>\n",
              "      <th>energy</th>\n",
              "      <th>key</th>\n",
              "      <th>loudness</th>\n",
              "      <th>mode</th>\n",
              "      <th>speechiness</th>\n",
              "      <th>acousticness</th>\n",
              "      <th>instrumentalness</th>\n",
              "      <th>liveness</th>\n",
              "      <th>valence</th>\n",
              "      <th>tempo</th>\n",
              "      <th>duration_ms</th>\n",
              "      <th>time_signature</th>\n",
              "      <th>Unnamed: 0</th>\n",
              "    </tr>\n",
              "  </thead>\n",
              "  <tbody>\n",
              "    <tr>\n",
              "      <th>count</th>\n",
              "      <td>42305.000000</td>\n",
              "      <td>42305.000000</td>\n",
              "      <td>42305.000000</td>\n",
              "      <td>42305.000000</td>\n",
              "      <td>42305.000000</td>\n",
              "      <td>42305.000000</td>\n",
              "      <td>42305.000000</td>\n",
              "      <td>42305.000000</td>\n",
              "      <td>42305.000000</td>\n",
              "      <td>42305.000000</td>\n",
              "      <td>42305.000000</td>\n",
              "      <td>42305.000000</td>\n",
              "      <td>42305.000000</td>\n",
              "      <td>20780.000000</td>\n",
              "    </tr>\n",
              "    <tr>\n",
              "      <th>mean</th>\n",
              "      <td>0.639364</td>\n",
              "      <td>0.762516</td>\n",
              "      <td>5.370240</td>\n",
              "      <td>-6.465442</td>\n",
              "      <td>0.549462</td>\n",
              "      <td>0.136561</td>\n",
              "      <td>0.096160</td>\n",
              "      <td>0.283048</td>\n",
              "      <td>0.214079</td>\n",
              "      <td>0.357101</td>\n",
              "      <td>147.474056</td>\n",
              "      <td>250865.846685</td>\n",
              "      <td>3.972580</td>\n",
              "      <td>10483.970645</td>\n",
              "    </tr>\n",
              "    <tr>\n",
              "      <th>std</th>\n",
              "      <td>0.156617</td>\n",
              "      <td>0.183823</td>\n",
              "      <td>3.666145</td>\n",
              "      <td>2.941165</td>\n",
              "      <td>0.497553</td>\n",
              "      <td>0.126168</td>\n",
              "      <td>0.170827</td>\n",
              "      <td>0.370791</td>\n",
              "      <td>0.175576</td>\n",
              "      <td>0.233200</td>\n",
              "      <td>23.844623</td>\n",
              "      <td>102957.713571</td>\n",
              "      <td>0.268342</td>\n",
              "      <td>6052.359519</td>\n",
              "    </tr>\n",
              "    <tr>\n",
              "      <th>min</th>\n",
              "      <td>0.065100</td>\n",
              "      <td>0.000243</td>\n",
              "      <td>0.000000</td>\n",
              "      <td>-33.357000</td>\n",
              "      <td>0.000000</td>\n",
              "      <td>0.022700</td>\n",
              "      <td>0.000001</td>\n",
              "      <td>0.000000</td>\n",
              "      <td>0.010700</td>\n",
              "      <td>0.018700</td>\n",
              "      <td>57.967000</td>\n",
              "      <td>25600.000000</td>\n",
              "      <td>1.000000</td>\n",
              "      <td>0.000000</td>\n",
              "    </tr>\n",
              "    <tr>\n",
              "      <th>25%</th>\n",
              "      <td>0.524000</td>\n",
              "      <td>0.632000</td>\n",
              "      <td>1.000000</td>\n",
              "      <td>-8.161000</td>\n",
              "      <td>0.000000</td>\n",
              "      <td>0.049100</td>\n",
              "      <td>0.001730</td>\n",
              "      <td>0.000000</td>\n",
              "      <td>0.099600</td>\n",
              "      <td>0.161000</td>\n",
              "      <td>129.931000</td>\n",
              "      <td>179840.000000</td>\n",
              "      <td>4.000000</td>\n",
              "      <td>5255.750000</td>\n",
              "    </tr>\n",
              "    <tr>\n",
              "      <th>50%</th>\n",
              "      <td>0.646000</td>\n",
              "      <td>0.803000</td>\n",
              "      <td>6.000000</td>\n",
              "      <td>-6.234000</td>\n",
              "      <td>1.000000</td>\n",
              "      <td>0.075500</td>\n",
              "      <td>0.016400</td>\n",
              "      <td>0.005940</td>\n",
              "      <td>0.135000</td>\n",
              "      <td>0.322000</td>\n",
              "      <td>144.973000</td>\n",
              "      <td>224760.000000</td>\n",
              "      <td>4.000000</td>\n",
              "      <td>10479.500000</td>\n",
              "    </tr>\n",
              "    <tr>\n",
              "      <th>75%</th>\n",
              "      <td>0.766000</td>\n",
              "      <td>0.923000</td>\n",
              "      <td>9.000000</td>\n",
              "      <td>-4.513000</td>\n",
              "      <td>1.000000</td>\n",
              "      <td>0.193000</td>\n",
              "      <td>0.107000</td>\n",
              "      <td>0.722000</td>\n",
              "      <td>0.294000</td>\n",
              "      <td>0.522000</td>\n",
              "      <td>161.464000</td>\n",
              "      <td>301133.000000</td>\n",
              "      <td>4.000000</td>\n",
              "      <td>15709.250000</td>\n",
              "    </tr>\n",
              "    <tr>\n",
              "      <th>max</th>\n",
              "      <td>0.988000</td>\n",
              "      <td>1.000000</td>\n",
              "      <td>11.000000</td>\n",
              "      <td>3.148000</td>\n",
              "      <td>1.000000</td>\n",
              "      <td>0.946000</td>\n",
              "      <td>0.988000</td>\n",
              "      <td>0.989000</td>\n",
              "      <td>0.988000</td>\n",
              "      <td>0.988000</td>\n",
              "      <td>220.290000</td>\n",
              "      <td>913052.000000</td>\n",
              "      <td>5.000000</td>\n",
              "      <td>20999.000000</td>\n",
              "    </tr>\n",
              "  </tbody>\n",
              "</table>\n",
              "</div>"
            ]
          },
          "metadata": {},
          "execution_count": 155
        }
      ],
      "source": [
        "df.describe()"
      ]
    },
    {
      "cell_type": "code",
      "execution_count": 156,
      "metadata": {
        "id": "KhOltgOzGsFA",
        "colab": {
          "base_uri": "https://localhost:8080/"
        },
        "outputId": "b6b61bbe-d257-4f5e-a9b6-4366e8e8e880"
      },
      "outputs": [
        {
          "output_type": "execute_result",
          "data": {
            "text/plain": [
              "danceability            0\n",
              "energy                  0\n",
              "key                     0\n",
              "loudness                0\n",
              "mode                    0\n",
              "speechiness             0\n",
              "acousticness            0\n",
              "instrumentalness        0\n",
              "liveness                0\n",
              "valence                 0\n",
              "tempo                   0\n",
              "type                    0\n",
              "id                      0\n",
              "uri                     0\n",
              "track_href              0\n",
              "analysis_url            0\n",
              "duration_ms             0\n",
              "time_signature          0\n",
              "genre                   0\n",
              "song_name           20786\n",
              "Unnamed: 0          21525\n",
              "title               21525\n",
              "dtype: int64"
            ]
          },
          "metadata": {},
          "execution_count": 156
        }
      ],
      "source": [
        "df.isnull().sum()"
      ]
    },
    {
      "cell_type": "markdown",
      "metadata": {
        "id": "OY0WZArvHgCh"
      },
      "source": [
        "# Совершенно не нужны - id, uri, track_href, alaysis_url, song_name, Unnamed: 0, title"
      ]
    },
    {
      "cell_type": "code",
      "execution_count": 157,
      "metadata": {
        "id": "MloOYorFIjjG",
        "colab": {
          "base_uri": "https://localhost:8080/",
          "height": 206
        },
        "outputId": "c1a1817f-7e44-4d95-f912-9e4d2d0f2995"
      },
      "outputs": [
        {
          "output_type": "execute_result",
          "data": {
            "text/plain": [
              "   danceability  energy  key  loudness  mode  speechiness  acousticness  \\\n",
              "0         0.831   0.814    2    -7.364     1       0.4200        0.0598   \n",
              "1         0.719   0.493    8    -7.230     1       0.0794        0.4010   \n",
              "2         0.850   0.893    5    -4.783     1       0.0623        0.0138   \n",
              "3         0.476   0.781    0    -4.710     1       0.1030        0.0237   \n",
              "4         0.798   0.624    2    -7.668     1       0.2930        0.2170   \n",
              "\n",
              "   instrumentalness  liveness  valence    tempo  duration_ms  time_signature  \n",
              "0          0.013400    0.0556   0.3890  156.985       124539               4  \n",
              "1          0.000000    0.1180   0.1240  115.080       224427               4  \n",
              "2          0.000004    0.3720   0.0391  218.050        98821               4  \n",
              "3          0.000000    0.1140   0.1750  186.948       123661               3  \n",
              "4          0.000000    0.1660   0.5910  147.988       123298               4  "
            ],
            "text/html": [
              "<div>\n",
              "<style scoped>\n",
              "    .dataframe tbody tr th:only-of-type {\n",
              "        vertical-align: middle;\n",
              "    }\n",
              "\n",
              "    .dataframe tbody tr th {\n",
              "        vertical-align: top;\n",
              "    }\n",
              "\n",
              "    .dataframe thead th {\n",
              "        text-align: right;\n",
              "    }\n",
              "</style>\n",
              "<table border=\"1\" class=\"dataframe\">\n",
              "  <thead>\n",
              "    <tr style=\"text-align: right;\">\n",
              "      <th></th>\n",
              "      <th>danceability</th>\n",
              "      <th>energy</th>\n",
              "      <th>key</th>\n",
              "      <th>loudness</th>\n",
              "      <th>mode</th>\n",
              "      <th>speechiness</th>\n",
              "      <th>acousticness</th>\n",
              "      <th>instrumentalness</th>\n",
              "      <th>liveness</th>\n",
              "      <th>valence</th>\n",
              "      <th>tempo</th>\n",
              "      <th>duration_ms</th>\n",
              "      <th>time_signature</th>\n",
              "    </tr>\n",
              "  </thead>\n",
              "  <tbody>\n",
              "    <tr>\n",
              "      <th>0</th>\n",
              "      <td>0.831</td>\n",
              "      <td>0.814</td>\n",
              "      <td>2</td>\n",
              "      <td>-7.364</td>\n",
              "      <td>1</td>\n",
              "      <td>0.4200</td>\n",
              "      <td>0.0598</td>\n",
              "      <td>0.013400</td>\n",
              "      <td>0.0556</td>\n",
              "      <td>0.3890</td>\n",
              "      <td>156.985</td>\n",
              "      <td>124539</td>\n",
              "      <td>4</td>\n",
              "    </tr>\n",
              "    <tr>\n",
              "      <th>1</th>\n",
              "      <td>0.719</td>\n",
              "      <td>0.493</td>\n",
              "      <td>8</td>\n",
              "      <td>-7.230</td>\n",
              "      <td>1</td>\n",
              "      <td>0.0794</td>\n",
              "      <td>0.4010</td>\n",
              "      <td>0.000000</td>\n",
              "      <td>0.1180</td>\n",
              "      <td>0.1240</td>\n",
              "      <td>115.080</td>\n",
              "      <td>224427</td>\n",
              "      <td>4</td>\n",
              "    </tr>\n",
              "    <tr>\n",
              "      <th>2</th>\n",
              "      <td>0.850</td>\n",
              "      <td>0.893</td>\n",
              "      <td>5</td>\n",
              "      <td>-4.783</td>\n",
              "      <td>1</td>\n",
              "      <td>0.0623</td>\n",
              "      <td>0.0138</td>\n",
              "      <td>0.000004</td>\n",
              "      <td>0.3720</td>\n",
              "      <td>0.0391</td>\n",
              "      <td>218.050</td>\n",
              "      <td>98821</td>\n",
              "      <td>4</td>\n",
              "    </tr>\n",
              "    <tr>\n",
              "      <th>3</th>\n",
              "      <td>0.476</td>\n",
              "      <td>0.781</td>\n",
              "      <td>0</td>\n",
              "      <td>-4.710</td>\n",
              "      <td>1</td>\n",
              "      <td>0.1030</td>\n",
              "      <td>0.0237</td>\n",
              "      <td>0.000000</td>\n",
              "      <td>0.1140</td>\n",
              "      <td>0.1750</td>\n",
              "      <td>186.948</td>\n",
              "      <td>123661</td>\n",
              "      <td>3</td>\n",
              "    </tr>\n",
              "    <tr>\n",
              "      <th>4</th>\n",
              "      <td>0.798</td>\n",
              "      <td>0.624</td>\n",
              "      <td>2</td>\n",
              "      <td>-7.668</td>\n",
              "      <td>1</td>\n",
              "      <td>0.2930</td>\n",
              "      <td>0.2170</td>\n",
              "      <td>0.000000</td>\n",
              "      <td>0.1660</td>\n",
              "      <td>0.5910</td>\n",
              "      <td>147.988</td>\n",
              "      <td>123298</td>\n",
              "      <td>4</td>\n",
              "    </tr>\n",
              "  </tbody>\n",
              "</table>\n",
              "</div>"
            ]
          },
          "metadata": {},
          "execution_count": 157
        }
      ],
      "source": [
        "df = df.drop(['type', 'id', 'uri', 'track_href', 'analysis_url', 'song_name', 'Unnamed: 0', 'title','genre'], axis=1)\n",
        "df.head(5)"
      ]
    },
    {
      "cell_type": "markdown",
      "metadata": {
        "id": "Qg6lIxfRJgQ6"
      },
      "source": [
        "# Также стоит дропнуть дупликаты"
      ]
    },
    {
      "cell_type": "code",
      "execution_count": 158,
      "metadata": {
        "id": "hZekiz4sJgC9",
        "colab": {
          "base_uri": "https://localhost:8080/"
        },
        "outputId": "4854b70b-19a5-4fa8-9833-d098d78df2e2"
      },
      "outputs": [
        {
          "output_type": "stream",
          "name": "stdout",
          "text": [
            "duplicates:  (7212, 13)\n"
          ]
        },
        {
          "output_type": "execute_result",
          "data": {
            "text/plain": [
              "danceability        35093\n",
              "energy              35093\n",
              "key                 35093\n",
              "loudness            35093\n",
              "mode                35093\n",
              "speechiness         35093\n",
              "acousticness        35093\n",
              "instrumentalness    35093\n",
              "liveness            35093\n",
              "valence             35093\n",
              "tempo               35093\n",
              "duration_ms         35093\n",
              "time_signature      35093\n",
              "dtype: int64"
            ]
          },
          "metadata": {},
          "execution_count": 158
        }
      ],
      "source": [
        "print(\"duplicates: \", df[df.duplicated()].shape)\n",
        "df = df.drop_duplicates()\n",
        "df = df.dropna()\n",
        "\n",
        "# remove_n = 25000\n",
        "# drop_indices = np.random.choice(df.index, remove_n, replace=False)\n",
        "# df = df.drop(drop_indices)\n",
        "\n",
        "\n",
        "df.count()\n"
      ]
    },
    {
      "cell_type": "code",
      "execution_count": 159,
      "metadata": {
        "id": "ldu1BtHo3b_5",
        "colab": {
          "base_uri": "https://localhost:8080/"
        },
        "outputId": "624df2a0-201e-439b-9252-c03b59c6f2a1"
      },
      "outputs": [
        {
          "output_type": "stream",
          "name": "stdout",
          "text": [
            "<class 'pandas.core.frame.DataFrame'>\n",
            "Int64Index: 35093 entries, 0 to 42304\n",
            "Data columns (total 13 columns):\n",
            " #   Column            Non-Null Count  Dtype  \n",
            "---  ------            --------------  -----  \n",
            " 0   danceability      35093 non-null  float64\n",
            " 1   energy            35093 non-null  float64\n",
            " 2   key               35093 non-null  int64  \n",
            " 3   loudness          35093 non-null  float64\n",
            " 4   mode              35093 non-null  int64  \n",
            " 5   speechiness       35093 non-null  float64\n",
            " 6   acousticness      35093 non-null  float64\n",
            " 7   instrumentalness  35093 non-null  float64\n",
            " 8   liveness          35093 non-null  float64\n",
            " 9   valence           35093 non-null  float64\n",
            " 10  tempo             35093 non-null  float64\n",
            " 11  duration_ms       35093 non-null  int64  \n",
            " 12  time_signature    35093 non-null  int64  \n",
            "dtypes: float64(9), int64(4)\n",
            "memory usage: 3.7 MB\n"
          ]
        }
      ],
      "source": [
        "df.info()"
      ]
    },
    {
      "cell_type": "code",
      "execution_count": 160,
      "metadata": {
        "id": "v_J6_rJe3LIK"
      },
      "outputs": [],
      "source": [
        "# c = df.copy()\n",
        "# c['genre']  = le.fit_transform(c['genre'])\n",
        "# c.info()"
      ]
    },
    {
      "cell_type": "code",
      "execution_count": 161,
      "metadata": {
        "id": "XgUiRLvw0n2P"
      },
      "outputs": [],
      "source": [
        "# histograms = c.hist(figsize=(10,10))\n",
        "# plt.show()"
      ]
    },
    {
      "cell_type": "code",
      "execution_count": 162,
      "metadata": {
        "id": "YmZR_NwU00eB"
      },
      "outputs": [],
      "source": [
        "# np.warnings.filterwarnings('ignore', category=np.VisibleDeprecationWarning) \n",
        "# for col in df.select_dtypes(include=np.number).columns.tolist():\n",
        "#   df.boxplot(by ='genre', column =[col], grid = True)"
      ]
    },
    {
      "cell_type": "code",
      "execution_count": 163,
      "metadata": {
        "id": "tANnH-1m63OV"
      },
      "outputs": [],
      "source": [
        "#pd.plotting.scatter_matrix(df, figsize = [20,20]) #- если вдруг захочется посмотреть на матрицы рассеивания"
      ]
    },
    {
      "cell_type": "code",
      "execution_count": 164,
      "metadata": {
        "id": "uIlF8xm3Xtc9",
        "colab": {
          "base_uri": "https://localhost:8080/",
          "height": 424
        },
        "outputId": "b2a96954-3c85-4bd0-a1f4-afd4fa84bef1"
      },
      "outputs": [
        {
          "output_type": "execute_result",
          "data": {
            "text/plain": [
              "       danceability  energy  key  loudness  mode  speechiness  acousticness  \\\n",
              "0             0.831   0.814    2    -7.364     1       0.4200      0.059800   \n",
              "1             0.719   0.493    8    -7.230     1       0.0794      0.401000   \n",
              "2             0.850   0.893    5    -4.783     1       0.0623      0.013800   \n",
              "3             0.476   0.781    0    -4.710     1       0.1030      0.023700   \n",
              "4             0.798   0.624    2    -7.668     1       0.2930      0.217000   \n",
              "...             ...     ...  ...       ...   ...          ...           ...   \n",
              "42298         0.502   0.991    5    -4.333     0       0.2400      0.005540   \n",
              "42300         0.528   0.693    4    -5.148     1       0.0304      0.031500   \n",
              "42302         0.361   0.821    8    -3.102     1       0.0505      0.026000   \n",
              "42303         0.477   0.921    6    -4.777     0       0.0392      0.000551   \n",
              "42304         0.529   0.945    9    -5.862     1       0.0615      0.001890   \n",
              "\n",
              "       instrumentalness  liveness  valence    tempo  time_signature  \n",
              "0              0.013400    0.0556   0.3890  156.985               4  \n",
              "1              0.000000    0.1180   0.1240  115.080               4  \n",
              "2              0.000004    0.3720   0.0391  218.050               4  \n",
              "3              0.000000    0.1140   0.1750  186.948               3  \n",
              "4              0.000000    0.1660   0.5910  147.988               4  \n",
              "...                 ...       ...      ...      ...             ...  \n",
              "42298          0.000198    0.4700   0.0797  150.029               4  \n",
              "42300          0.000345    0.1210   0.3940  150.013               4  \n",
              "42302          0.000242    0.3850   0.1240  154.935               4  \n",
              "42303          0.029600    0.0575   0.4880  150.042               4  \n",
              "42304          0.000055    0.4140   0.1340  155.047               4  \n",
              "\n",
              "[35093 rows x 12 columns]"
            ],
            "text/html": [
              "<div>\n",
              "<style scoped>\n",
              "    .dataframe tbody tr th:only-of-type {\n",
              "        vertical-align: middle;\n",
              "    }\n",
              "\n",
              "    .dataframe tbody tr th {\n",
              "        vertical-align: top;\n",
              "    }\n",
              "\n",
              "    .dataframe thead th {\n",
              "        text-align: right;\n",
              "    }\n",
              "</style>\n",
              "<table border=\"1\" class=\"dataframe\">\n",
              "  <thead>\n",
              "    <tr style=\"text-align: right;\">\n",
              "      <th></th>\n",
              "      <th>danceability</th>\n",
              "      <th>energy</th>\n",
              "      <th>key</th>\n",
              "      <th>loudness</th>\n",
              "      <th>mode</th>\n",
              "      <th>speechiness</th>\n",
              "      <th>acousticness</th>\n",
              "      <th>instrumentalness</th>\n",
              "      <th>liveness</th>\n",
              "      <th>valence</th>\n",
              "      <th>tempo</th>\n",
              "      <th>time_signature</th>\n",
              "    </tr>\n",
              "  </thead>\n",
              "  <tbody>\n",
              "    <tr>\n",
              "      <th>0</th>\n",
              "      <td>0.831</td>\n",
              "      <td>0.814</td>\n",
              "      <td>2</td>\n",
              "      <td>-7.364</td>\n",
              "      <td>1</td>\n",
              "      <td>0.4200</td>\n",
              "      <td>0.059800</td>\n",
              "      <td>0.013400</td>\n",
              "      <td>0.0556</td>\n",
              "      <td>0.3890</td>\n",
              "      <td>156.985</td>\n",
              "      <td>4</td>\n",
              "    </tr>\n",
              "    <tr>\n",
              "      <th>1</th>\n",
              "      <td>0.719</td>\n",
              "      <td>0.493</td>\n",
              "      <td>8</td>\n",
              "      <td>-7.230</td>\n",
              "      <td>1</td>\n",
              "      <td>0.0794</td>\n",
              "      <td>0.401000</td>\n",
              "      <td>0.000000</td>\n",
              "      <td>0.1180</td>\n",
              "      <td>0.1240</td>\n",
              "      <td>115.080</td>\n",
              "      <td>4</td>\n",
              "    </tr>\n",
              "    <tr>\n",
              "      <th>2</th>\n",
              "      <td>0.850</td>\n",
              "      <td>0.893</td>\n",
              "      <td>5</td>\n",
              "      <td>-4.783</td>\n",
              "      <td>1</td>\n",
              "      <td>0.0623</td>\n",
              "      <td>0.013800</td>\n",
              "      <td>0.000004</td>\n",
              "      <td>0.3720</td>\n",
              "      <td>0.0391</td>\n",
              "      <td>218.050</td>\n",
              "      <td>4</td>\n",
              "    </tr>\n",
              "    <tr>\n",
              "      <th>3</th>\n",
              "      <td>0.476</td>\n",
              "      <td>0.781</td>\n",
              "      <td>0</td>\n",
              "      <td>-4.710</td>\n",
              "      <td>1</td>\n",
              "      <td>0.1030</td>\n",
              "      <td>0.023700</td>\n",
              "      <td>0.000000</td>\n",
              "      <td>0.1140</td>\n",
              "      <td>0.1750</td>\n",
              "      <td>186.948</td>\n",
              "      <td>3</td>\n",
              "    </tr>\n",
              "    <tr>\n",
              "      <th>4</th>\n",
              "      <td>0.798</td>\n",
              "      <td>0.624</td>\n",
              "      <td>2</td>\n",
              "      <td>-7.668</td>\n",
              "      <td>1</td>\n",
              "      <td>0.2930</td>\n",
              "      <td>0.217000</td>\n",
              "      <td>0.000000</td>\n",
              "      <td>0.1660</td>\n",
              "      <td>0.5910</td>\n",
              "      <td>147.988</td>\n",
              "      <td>4</td>\n",
              "    </tr>\n",
              "    <tr>\n",
              "      <th>...</th>\n",
              "      <td>...</td>\n",
              "      <td>...</td>\n",
              "      <td>...</td>\n",
              "      <td>...</td>\n",
              "      <td>...</td>\n",
              "      <td>...</td>\n",
              "      <td>...</td>\n",
              "      <td>...</td>\n",
              "      <td>...</td>\n",
              "      <td>...</td>\n",
              "      <td>...</td>\n",
              "      <td>...</td>\n",
              "    </tr>\n",
              "    <tr>\n",
              "      <th>42298</th>\n",
              "      <td>0.502</td>\n",
              "      <td>0.991</td>\n",
              "      <td>5</td>\n",
              "      <td>-4.333</td>\n",
              "      <td>0</td>\n",
              "      <td>0.2400</td>\n",
              "      <td>0.005540</td>\n",
              "      <td>0.000198</td>\n",
              "      <td>0.4700</td>\n",
              "      <td>0.0797</td>\n",
              "      <td>150.029</td>\n",
              "      <td>4</td>\n",
              "    </tr>\n",
              "    <tr>\n",
              "      <th>42300</th>\n",
              "      <td>0.528</td>\n",
              "      <td>0.693</td>\n",
              "      <td>4</td>\n",
              "      <td>-5.148</td>\n",
              "      <td>1</td>\n",
              "      <td>0.0304</td>\n",
              "      <td>0.031500</td>\n",
              "      <td>0.000345</td>\n",
              "      <td>0.1210</td>\n",
              "      <td>0.3940</td>\n",
              "      <td>150.013</td>\n",
              "      <td>4</td>\n",
              "    </tr>\n",
              "    <tr>\n",
              "      <th>42302</th>\n",
              "      <td>0.361</td>\n",
              "      <td>0.821</td>\n",
              "      <td>8</td>\n",
              "      <td>-3.102</td>\n",
              "      <td>1</td>\n",
              "      <td>0.0505</td>\n",
              "      <td>0.026000</td>\n",
              "      <td>0.000242</td>\n",
              "      <td>0.3850</td>\n",
              "      <td>0.1240</td>\n",
              "      <td>154.935</td>\n",
              "      <td>4</td>\n",
              "    </tr>\n",
              "    <tr>\n",
              "      <th>42303</th>\n",
              "      <td>0.477</td>\n",
              "      <td>0.921</td>\n",
              "      <td>6</td>\n",
              "      <td>-4.777</td>\n",
              "      <td>0</td>\n",
              "      <td>0.0392</td>\n",
              "      <td>0.000551</td>\n",
              "      <td>0.029600</td>\n",
              "      <td>0.0575</td>\n",
              "      <td>0.4880</td>\n",
              "      <td>150.042</td>\n",
              "      <td>4</td>\n",
              "    </tr>\n",
              "    <tr>\n",
              "      <th>42304</th>\n",
              "      <td>0.529</td>\n",
              "      <td>0.945</td>\n",
              "      <td>9</td>\n",
              "      <td>-5.862</td>\n",
              "      <td>1</td>\n",
              "      <td>0.0615</td>\n",
              "      <td>0.001890</td>\n",
              "      <td>0.000055</td>\n",
              "      <td>0.4140</td>\n",
              "      <td>0.1340</td>\n",
              "      <td>155.047</td>\n",
              "      <td>4</td>\n",
              "    </tr>\n",
              "  </tbody>\n",
              "</table>\n",
              "<p>35093 rows × 12 columns</p>\n",
              "</div>"
            ]
          },
          "metadata": {},
          "execution_count": 164
        }
      ],
      "source": [
        "X = df.copy()\n",
        "# X['genre']  = le.fit_transform(X['genre'])\n",
        "y = X.pop('duration_ms') \n",
        "X"
      ]
    },
    {
      "cell_type": "code",
      "execution_count": 165,
      "metadata": {
        "id": "yxp_eVMIXIbt"
      },
      "outputs": [],
      "source": [
        "# sm=SMOTE()\n",
        "# X_std = preprocessing.StandardScaler().fit_transform(X)\n",
        "# X,y=sm.fit_resample(X_std,y)"
      ]
    },
    {
      "cell_type": "code",
      "execution_count": 166,
      "metadata": {
        "id": "Oqq5ZjD3Y0Fr",
        "colab": {
          "base_uri": "https://localhost:8080/",
          "height": 517
        },
        "outputId": "18634ad0-8190-4fad-f1ef-a749725cc1ae"
      },
      "outputs": [
        {
          "output_type": "execute_result",
          "data": {
            "text/plain": [
              "(array([1.2100e+03, 1.1427e+04, 1.2580e+04, 4.5170e+03, 3.8740e+03,\n",
              "        1.3040e+03, 1.5600e+02, 1.7000e+01, 4.0000e+00, 4.0000e+00]),\n",
              " array([ 25600. , 114345.2, 203090.4, 291835.6, 380580.8, 469326. ,\n",
              "        558071.2, 646816.4, 735561.6, 824306.8, 913052. ]),\n",
              " <BarContainer object of 10 artists>)"
            ]
          },
          "metadata": {},
          "execution_count": 166
        },
        {
          "output_type": "display_data",
          "data": {
            "text/plain": [
              "<Figure size 640x480 with 1 Axes>"
            ],
            "image/png": "[encoded data removed]"
          },
          "metadata": {}
        }
      ],
      "source": [
        "#  y.value_counts().plot(kind=\"bar\", title=\"duration_ms\")\n",
        "plt.hist(df.duration_ms)"
      ]
    },
    {
      "cell_type": "markdown",
      "source": [
        "# **ОТСЮДА НАЧИНАЕТСЯ ПО ФАКТУ ТРЕТЬЯ РАБОТА**"
      ],
      "metadata": {
        "id": "R8pLBGSoZJI1"
      }
    },
    {
      "cell_type": "markdown",
      "source": [
        "# Linear regress"
      ],
      "metadata": {
        "id": "RkfgDvyKYPT-"
      }
    },
    {
      "cell_type": "code",
      "source": [
        "X_train, X_test, y_train, y_test = train_test_split(X, y, test_size=0.33, random_state=42)"
      ],
      "metadata": {
        "id": "0KtPTijCTzy8"
      },
      "execution_count": 167,
      "outputs": []
    },
    {
      "cell_type": "code",
      "source": [
        "from sklearn.linear_model import Lasso, LassoCV, Ridge, RidgeCV, LinearRegression\n",
        "lin = LinearRegression()\n",
        "lin.fit(X_train, y_train)"
      ],
      "metadata": {
        "colab": {
          "base_uri": "https://localhost:8080/",
          "height": 75
        },
        "id": "LrlpCbI5U6vS",
        "outputId": "141575a2-92f8-44e7-f629-15c12b2c4527"
      },
      "execution_count": 168,
      "outputs": [
        {
          "output_type": "execute_result",
          "data": {
            "text/plain": [
              "LinearRegression()"
            ],
            "text/html": [
              "<style>#sk-container-id-11 {color: black;background-color: white;}#sk-container-id-11 pre{padding: 0;}#sk-container-id-11 div.sk-toggleable {background-color: white;}#sk-container-id-11 label.sk-toggleable__label {cursor: pointer;display: block;width: 100%;margin-bottom: 0;padding: 0.3em;box-sizing: border-box;text-align: center;}#sk-container-id-11 label.sk-toggleable__label-arrow:before {content: \"▸\";float: left;margin-right: 0.25em;color: #696969;}#sk-container-id-11 label.sk-toggleable__label-arrow:hover:before {color: black;}#sk-container-id-11 div.sk-estimator:hover label.sk-toggleable__label-arrow:before {color: black;}#sk-container-id-11 div.sk-toggleable__content {max-height: 0;max-width: 0;overflow: hidden;text-align: left;background-color: #f0f8ff;}#sk-container-id-11 div.sk-toggleable__content pre {margin: 0.2em;color: black;border-radius: 0.25em;background-color: #f0f8ff;}#sk-container-id-11 input.sk-toggleable__control:checked~div.sk-toggleable__content {max-height: 200px;max-width: 100%;overflow: auto;}#sk-container-id-11 input.sk-toggleable__control:checked~label.sk-toggleable__label-arrow:before {content: \"▾\";}#sk-container-id-11 div.sk-estimator input.sk-toggleable__control:checked~label.sk-toggleable__label {background-color: #d4ebff;}#sk-container-id-11 div.sk-label input.sk-toggleable__control:checked~label.sk-toggleable__label {background-color: #d4ebff;}#sk-container-id-11 input.sk-hidden--visually {border: 0;clip: rect(1px 1px 1px 1px);clip: rect(1px, 1px, 1px, 1px);height: 1px;margin: -1px;overflow: hidden;padding: 0;position: absolute;width: 1px;}#sk-container-id-11 div.sk-estimator {font-family: monospace;background-color: #f0f8ff;border: 1px dotted black;border-radius: 0.25em;box-sizing: border-box;margin-bottom: 0.5em;}#sk-container-id-11 div.sk-estimator:hover {background-color: #d4ebff;}#sk-container-id-11 div.sk-parallel-item::after {content: \"\";width: 100%;border-bottom: 1px solid gray;flex-grow: 1;}#sk-container-id-11 div.sk-label:hover label.sk-toggleable__label {background-color: #d4ebff;}#sk-container-id-11 div.sk-serial::before {content: \"\";position: absolute;border-left: 1px solid gray;box-sizing: border-box;top: 0;bottom: 0;left: 50%;z-index: 0;}#sk-container-id-11 div.sk-serial {display: flex;flex-direction: column;align-items: center;background-color: white;padding-right: 0.2em;padding-left: 0.2em;position: relative;}#sk-container-id-11 div.sk-item {position: relative;z-index: 1;}#sk-container-id-11 div.sk-parallel {display: flex;align-items: stretch;justify-content: center;background-color: white;position: relative;}#sk-container-id-11 div.sk-item::before, #sk-container-id-11 div.sk-parallel-item::before {content: \"\";position: absolute;border-left: 1px solid gray;box-sizing: border-box;top: 0;bottom: 0;left: 50%;z-index: -1;}#sk-container-id-11 div.sk-parallel-item {display: flex;flex-direction: column;z-index: 1;position: relative;background-color: white;}#sk-container-id-11 div.sk-parallel-item:first-child::after {align-self: flex-end;width: 50%;}#sk-container-id-11 div.sk-parallel-item:last-child::after {align-self: flex-start;width: 50%;}#sk-container-id-11 div.sk-parallel-item:only-child::after {width: 0;}#sk-container-id-11 div.sk-dashed-wrapped {border: 1px dashed gray;margin: 0 0.4em 0.5em 0.4em;box-sizing: border-box;padding-bottom: 0.4em;background-color: white;}#sk-container-id-11 div.sk-label label {font-family: monospace;font-weight: bold;display: inline-block;line-height: 1.2em;}#sk-container-id-11 div.sk-label-container {text-align: center;}#sk-container-id-11 div.sk-container {/* jupyter's `normalize.less` sets `[hidden] { display: none; }` but bootstrap.min.css set `[hidden] { display: none !important; }` so we also need the `!important` here to be able to override the default hidden behavior on the sphinx rendered scikit-learn.org. See: https://github.com/scikit-learn/scikit-learn/issues/21755 */display: inline-block !important;position: relative;}#sk-container-id-11 div.sk-text-repr-fallback {display: none;}</style><div id=\"sk-container-id-11\" class=\"sk-top-container\"><div class=\"sk-text-repr-fallback\"><pre>LinearRegression()</pre><b>In a Jupyter environment, please rerun this cell to show the HTML representation or trust the notebook. <br />On GitHub, the HTML representation is unable to render, please try loading this page with nbviewer.org.</b></div><div class=\"sk-container\" hidden><div class=\"sk-item\"><div class=\"sk-estimator sk-toggleable\"><input class=\"sk-toggleable__control sk-hidden--visually\" id=\"sk-estimator-id-11\" type=\"checkbox\" checked><label for=\"sk-estimator-id-11\" class=\"sk-toggleable__label sk-toggleable__label-arrow\">LinearRegression</label><div class=\"sk-toggleable__content\"><pre>LinearRegression()</pre></div></div></div></div></div>"
            ]
          },
          "metadata": {},
          "execution_count": 168
        }
      ]
    },
    {
      "cell_type": "code",
      "source": [
        "lin.coef_"
      ],
      "metadata": {
        "colab": {
          "base_uri": "https://localhost:8080/"
        },
        "id": "rJp23ZeaXtAC",
        "outputId": "10a57765-4b9c-44f8-8e60-4ae1ba65d128"
      },
      "execution_count": 169,
      "outputs": [
        {
          "output_type": "execute_result",
          "data": {
            "text/plain": [
              "array([ 5.14030401e+04,  1.23848400e+05,  7.53529450e+02, -4.49154265e+03,\n",
              "       -1.66707653e+03, -7.52592180e+04, -2.63163005e+04,  1.24554754e+05,\n",
              "        2.00991785e+03, -2.54896109e+04, -5.81243490e+01,  1.19671318e+03])"
            ]
          },
          "metadata": {},
          "execution_count": 169
        }
      ]
    },
    {
      "cell_type": "code",
      "source": [
        "from sklearn.metrics import mean_absolute_error, mean_squared_error\n",
        "print(mean_absolute_error(y_test,lin.predict(X_test)))"
      ],
      "metadata": {
        "colab": {
          "base_uri": "https://localhost:8080/"
        },
        "id": "-XRDy4c3Xxa3",
        "outputId": "92553fba-1dbd-4382-a38c-745e61ded5b1"
      },
      "execution_count": 170,
      "outputs": [
        {
          "output_type": "stream",
          "name": "stdout",
          "text": [
            "62080.41320731539\n"
          ]
        }
      ]
    },
    {
      "cell_type": "code",
      "source": [
        "print(mean_squared_error(y_test,lin.predict(X_test)))"
      ],
      "metadata": {
        "colab": {
          "base_uri": "https://localhost:8080/"
        },
        "id": "sWdCASsVh8p8",
        "outputId": "dc5896c4-49ba-4214-99c0-116a1fbc0c37"
      },
      "execution_count": 171,
      "outputs": [
        {
          "output_type": "stream",
          "name": "stdout",
          "text": [
            "6407467898.905166\n"
          ]
        }
      ]
    },
    {
      "cell_type": "markdown",
      "source": [
        "# Decision Tree"
      ],
      "metadata": {
        "id": "69_ClJmllLr3"
      }
    },
    {
      "cell_type": "code",
      "source": [
        "from sklearn.tree import DecisionTreeRegressor\n",
        "regr = DecisionTreeRegressor(max_depth=10)\n",
        "regr.fit(X_train, y_train)\n",
        "y_pred = regr.predict(X_test)\n",
        "print(mean_absolute_error(y_test, y_pred))"
      ],
      "metadata": {
        "colab": {
          "base_uri": "https://localhost:8080/"
        },
        "id": "gvpHWGRflOFs",
        "outputId": "691646b2-8685-4c95-f531-d8495a9773e7"
      },
      "execution_count": 172,
      "outputs": [
        {
          "output_type": "stream",
          "name": "stdout",
          "text": [
            "54485.8791917781\n"
          ]
        }
      ]
    },
    {
      "cell_type": "code",
      "source": [
        "print(mean_squared_error(y_test, y_pred))"
      ],
      "metadata": {
        "colab": {
          "base_uri": "https://localhost:8080/"
        },
        "id": "xspF9JfroFIu",
        "outputId": "85a90459-304b-4cf2-a877-70450138a1f0"
      },
      "execution_count": 173,
      "outputs": [
        {
          "output_type": "stream",
          "name": "stdout",
          "text": [
            "5593757190.967932\n"
          ]
        }
      ]
    },
    {
      "cell_type": "markdown",
      "source": [
        "# Lasso"
      ],
      "metadata": {
        "id": "wCpTecYrYNoO"
      }
    },
    {
      "cell_type": "code",
      "source": [
        "lasso = Lasso(alpha=0.1)\n",
        "lasso.fit(X_train, y_train)\n",
        "lasso.coef_\n",
        "lasso.score(X_test,y_test)"
      ],
      "metadata": {
        "colab": {
          "base_uri": "https://localhost:8080/"
        },
        "id": "BRUCk6KZYNNG",
        "outputId": "080acf97-f4bf-4f75-d64c-6a94b7e7b0ee"
      },
      "execution_count": 174,
      "outputs": [
        {
          "output_type": "execute_result",
          "data": {
            "text/plain": [
              "0.40026218024290794"
            ]
          },
          "metadata": {},
          "execution_count": 174
        }
      ]
    },
    {
      "cell_type": "code",
      "source": [
        "lasso = Lasso(alpha=200)\n",
        "lasso.fit(X_train, y_train)\n",
        "lasso.coef_\n",
        "lasso.score(X_test,y_test)"
      ],
      "metadata": {
        "colab": {
          "base_uri": "https://localhost:8080/"
        },
        "id": "xRgS6GMHYa1A",
        "outputId": "743c2332-c1cf-4f6f-9699-edccbf7eae1a"
      },
      "execution_count": 175,
      "outputs": [
        {
          "output_type": "execute_result",
          "data": {
            "text/plain": [
              "0.3991153838311694"
            ]
          },
          "metadata": {},
          "execution_count": 175
        }
      ]
    },
    {
      "cell_type": "code",
      "source": [
        "n_alphas = 1000\n",
        "alphas = np.linspace(0.1, 200, n_alphas)\n",
        "lasso_cv = LassoCV(alphas=alphas, cv=5, random_state=17)\n",
        "lasso_cv.fit(X_train, y_train)"
      ],
      "metadata": {
        "colab": {
          "base_uri": "https://localhost:8080/",
          "height": 252
        },
        "id": "CxuDSRYKbqyk",
        "outputId": "ac3ee723-e9bb-4639-e94a-0e04a3e8b173"
      },
      "execution_count": 176,
      "outputs": [
        {
          "output_type": "execute_result",
          "data": {
            "text/plain": [
              "LassoCV(alphas=array([1.00000000e-01, 3.00100100e-01, 5.00200200e-01, 7.00300300e-01,\n",
              "       9.00400400e-01, 1.10050050e+00, 1.30060060e+00, 1.50070070e+00,\n",
              "       1.70080080e+00, 1.90090090e+00, 2.10100100e+00, 2.30110110e+00,\n",
              "       2.50120120e+00, 2.70130130e+00, 2.90140140e+00, 3.10150150e+00,\n",
              "       3.30160160e+00, 3.50170170e+00, 3.70180180e+00, 3.90190190e+00,\n",
              "       4.10200200e+00, 4.30210210e+0...\n",
              "       1.95397698e+02, 1.95597798e+02, 1.95797898e+02, 1.95997998e+02,\n",
              "       1.96198098e+02, 1.96398198e+02, 1.96598298e+02, 1.96798398e+02,\n",
              "       1.96998498e+02, 1.97198599e+02, 1.97398699e+02, 1.97598799e+02,\n",
              "       1.97798899e+02, 1.97998999e+02, 1.98199099e+02, 1.98399199e+02,\n",
              "       1.98599299e+02, 1.98799399e+02, 1.98999499e+02, 1.99199600e+02,\n",
              "       1.99399700e+02, 1.99599800e+02, 1.99799900e+02, 2.00000000e+02]),\n",
              "        cv=5, random_state=17)"
            ],
            "text/html": [
              "<style>#sk-container-id-12 {color: black;background-color: white;}#sk-container-id-12 pre{padding: 0;}#sk-container-id-12 div.sk-toggleable {background-color: white;}#sk-container-id-12 label.sk-toggleable__label {cursor: pointer;display: block;width: 100%;margin-bottom: 0;padding: 0.3em;box-sizing: border-box;text-align: center;}#sk-container-id-12 label.sk-toggleable__label-arrow:before {content: \"▸\";float: left;margin-right: 0.25em;color: #696969;}#sk-container-id-12 label.sk-toggleable__label-arrow:hover:before {color: black;}#sk-container-id-12 div.sk-estimator:hover label.sk-toggleable__label-arrow:before {color: black;}#sk-container-id-12 div.sk-toggleable__content {max-height: 0;max-width: 0;overflow: hidden;text-align: left;background-color: #f0f8ff;}#sk-container-id-12 div.sk-toggleable__content pre {margin: 0.2em;color: black;border-radius: 0.25em;background-color: #f0f8ff;}#sk-container-id-12 input.sk-toggleable__control:checked~div.sk-toggleable__content {max-height: 200px;max-width: 100%;overflow: auto;}#sk-container-id-12 input.sk-toggleable__control:checked~label.sk-toggleable__label-arrow:before {content: \"▾\";}#sk-container-id-12 div.sk-estimator input.sk-toggleable__control:checked~label.sk-toggleable__label {background-color: #d4ebff;}#sk-container-id-12 div.sk-label input.sk-toggleable__control:checked~label.sk-toggleable__label {background-color: #d4ebff;}#sk-container-id-12 input.sk-hidden--visually {border: 0;clip: rect(1px 1px 1px 1px);clip: rect(1px, 1px, 1px, 1px);height: 1px;margin: -1px;overflow: hidden;padding: 0;position: absolute;width: 1px;}#sk-container-id-12 div.sk-estimator {font-family: monospace;background-color: #f0f8ff;border: 1px dotted black;border-radius: 0.25em;box-sizing: border-box;margin-bottom: 0.5em;}#sk-container-id-12 div.sk-estimator:hover {background-color: #d4ebff;}#sk-container-id-12 div.sk-parallel-item::after {content: \"\";width: 100%;border-bottom: 1px solid gray;flex-grow: 1;}#sk-container-id-12 div.sk-label:hover label.sk-toggleable__label {background-color: #d4ebff;}#sk-container-id-12 div.sk-serial::before {content: \"\";position: absolute;border-left: 1px solid gray;box-sizing: border-box;top: 0;bottom: 0;left: 50%;z-index: 0;}#sk-container-id-12 div.sk-serial {display: flex;flex-direction: column;align-items: center;background-color: white;padding-right: 0.2em;padding-left: 0.2em;position: relative;}#sk-container-id-12 div.sk-item {position: relative;z-index: 1;}#sk-container-id-12 div.sk-parallel {display: flex;align-items: stretch;justify-content: center;background-color: white;position: relative;}#sk-container-id-12 div.sk-item::before, #sk-container-id-12 div.sk-parallel-item::before {content: \"\";position: absolute;border-left: 1px solid gray;box-sizing: border-box;top: 0;bottom: 0;left: 50%;z-index: -1;}#sk-container-id-12 div.sk-parallel-item {display: flex;flex-direction: column;z-index: 1;position: relative;background-color: white;}#sk-container-id-12 div.sk-parallel-item:first-child::after {align-self: flex-end;width: 50%;}#sk-container-id-12 div.sk-parallel-item:last-child::after {align-self: flex-start;width: 50%;}#sk-container-id-12 div.sk-parallel-item:only-child::after {width: 0;}#sk-container-id-12 div.sk-dashed-wrapped {border: 1px dashed gray;margin: 0 0.4em 0.5em 0.4em;box-sizing: border-box;padding-bottom: 0.4em;background-color: white;}#sk-container-id-12 div.sk-label label {font-family: monospace;font-weight: bold;display: inline-block;line-height: 1.2em;}#sk-container-id-12 div.sk-label-container {text-align: center;}#sk-container-id-12 div.sk-container {/* jupyter's `normalize.less` sets `[hidden] { display: none; }` but bootstrap.min.css set `[hidden] { display: none !important; }` so we also need the `!important` here to be able to override the default hidden behavior on the sphinx rendered scikit-learn.org. See: https://github.com/scikit-learn/scikit-learn/issues/21755 */display: inline-block !important;position: relative;}#sk-container-id-12 div.sk-text-repr-fallback {display: none;}</style><div id=\"sk-container-id-12\" class=\"sk-top-container\"><div class=\"sk-text-repr-fallback\"><pre>LassoCV(alphas=array([1.00000000e-01, 3.00100100e-01, 5.00200200e-01, 7.00300300e-01,\n",
              "       9.00400400e-01, 1.10050050e+00, 1.30060060e+00, 1.50070070e+00,\n",
              "       1.70080080e+00, 1.90090090e+00, 2.10100100e+00, 2.30110110e+00,\n",
              "       2.50120120e+00, 2.70130130e+00, 2.90140140e+00, 3.10150150e+00,\n",
              "       3.30160160e+00, 3.50170170e+00, 3.70180180e+00, 3.90190190e+00,\n",
              "       4.10200200e+00, 4.30210210e+0...\n",
              "       1.95397698e+02, 1.95597798e+02, 1.95797898e+02, 1.95997998e+02,\n",
              "       1.96198098e+02, 1.96398198e+02, 1.96598298e+02, 1.96798398e+02,\n",
              "       1.96998498e+02, 1.97198599e+02, 1.97398699e+02, 1.97598799e+02,\n",
              "       1.97798899e+02, 1.97998999e+02, 1.98199099e+02, 1.98399199e+02,\n",
              "       1.98599299e+02, 1.98799399e+02, 1.98999499e+02, 1.99199600e+02,\n",
              "       1.99399700e+02, 1.99599800e+02, 1.99799900e+02, 2.00000000e+02]),\n",
              "        cv=5, random_state=17)</pre><b>In a Jupyter environment, please rerun this cell to show the HTML representation or trust the notebook. <br />On GitHub, the HTML representation is unable to render, please try loading this page with nbviewer.org.</b></div><div class=\"sk-container\" hidden><div class=\"sk-item\"><div class=\"sk-estimator sk-toggleable\"><input class=\"sk-toggleable__control sk-hidden--visually\" id=\"sk-estimator-id-12\" type=\"checkbox\" checked><label for=\"sk-estimator-id-12\" class=\"sk-toggleable__label sk-toggleable__label-arrow\">LassoCV</label><div class=\"sk-toggleable__content\"><pre>LassoCV(alphas=array([1.00000000e-01, 3.00100100e-01, 5.00200200e-01, 7.00300300e-01,\n",
              "       9.00400400e-01, 1.10050050e+00, 1.30060060e+00, 1.50070070e+00,\n",
              "       1.70080080e+00, 1.90090090e+00, 2.10100100e+00, 2.30110110e+00,\n",
              "       2.50120120e+00, 2.70130130e+00, 2.90140140e+00, 3.10150150e+00,\n",
              "       3.30160160e+00, 3.50170170e+00, 3.70180180e+00, 3.90190190e+00,\n",
              "       4.10200200e+00, 4.30210210e+0...\n",
              "       1.95397698e+02, 1.95597798e+02, 1.95797898e+02, 1.95997998e+02,\n",
              "       1.96198098e+02, 1.96398198e+02, 1.96598298e+02, 1.96798398e+02,\n",
              "       1.96998498e+02, 1.97198599e+02, 1.97398699e+02, 1.97598799e+02,\n",
              "       1.97798899e+02, 1.97998999e+02, 1.98199099e+02, 1.98399199e+02,\n",
              "       1.98599299e+02, 1.98799399e+02, 1.98999499e+02, 1.99199600e+02,\n",
              "       1.99399700e+02, 1.99599800e+02, 1.99799900e+02, 2.00000000e+02]),\n",
              "        cv=5, random_state=17)</pre></div></div></div></div></div>"
            ]
          },
          "metadata": {},
          "execution_count": 176
        }
      ]
    },
    {
      "cell_type": "code",
      "source": [
        "lasso_cv.coef_"
      ],
      "metadata": {
        "colab": {
          "base_uri": "https://localhost:8080/"
        },
        "id": "aoWnkNslcdTX",
        "outputId": "e298daa9-2019-4840-cece-be22a1452fb6"
      },
      "execution_count": 177,
      "outputs": [
        {
          "output_type": "execute_result",
          "data": {
            "text/plain": [
              "array([ 5.13933035e+04,  1.23842225e+05,  7.53542888e+02, -4.49132732e+03,\n",
              "       -1.66659748e+03, -7.52510775e+04, -2.63157238e+04,  1.24556505e+05,\n",
              "        2.00585322e+03, -2.54859767e+04, -5.81421682e+01,  1.19561134e+03])"
            ]
          },
          "metadata": {},
          "execution_count": 177
        }
      ]
    },
    {
      "cell_type": "code",
      "source": [
        "lasso_cv.alpha_"
      ],
      "metadata": {
        "colab": {
          "base_uri": "https://localhost:8080/"
        },
        "id": "UT2xjqwNcdu1",
        "outputId": "44e815e7-45dd-4067-be11-4bd37933c55a"
      },
      "execution_count": 178,
      "outputs": [
        {
          "output_type": "execute_result",
          "data": {
            "text/plain": [
              "0.1"
            ]
          },
          "metadata": {},
          "execution_count": 178
        }
      ]
    },
    {
      "cell_type": "code",
      "source": [
        "from sklearn.model_selection import KFold, cross_val_score, train_test_split\n",
        "cross_val_score(Lasso(lasso_cv.alpha_), X_train, y_train, cv=5, scoring=\"neg_mean_squared_error\")"
      ],
      "metadata": {
        "colab": {
          "base_uri": "https://localhost:8080/"
        },
        "id": "C05EDynaeVOa",
        "outputId": "e20d8900-5d20-41ad-bbab-e1a5c882422f"
      },
      "execution_count": 179,
      "outputs": [
        {
          "output_type": "execute_result",
          "data": {
            "text/plain": [
              "array([-6.41839684e+09, -6.51034845e+09, -6.42630485e+09, -6.58148347e+09,\n",
              "       -7.03801092e+09])"
            ]
          },
          "metadata": {},
          "execution_count": 179
        }
      ]
    },
    {
      "cell_type": "code",
      "source": [
        "abs(\n",
        "    np.mean(\n",
        "        cross_val_score(\n",
        "            Lasso(lasso_cv.alpha_), X_train, y_train, cv=5, scoring=\"neg_mean_squared_error\"\n",
        "        )\n",
        "    )\n",
        ")"
      ],
      "metadata": {
        "colab": {
          "base_uri": "https://localhost:8080/"
        },
        "id": "5rmM9KQigK3T",
        "outputId": "8c49144d-c3b7-4ecf-9467-66f2d92e4a5d"
      },
      "execution_count": 180,
      "outputs": [
        {
          "output_type": "execute_result",
          "data": {
            "text/plain": [
              "6594908905.778778"
            ]
          },
          "metadata": {},
          "execution_count": 180
        }
      ]
    },
    {
      "cell_type": "markdown",
      "source": [
        "# Ridge"
      ],
      "metadata": {
        "id": "CRMcOJ0Frtfk"
      }
    },
    {
      "cell_type": "code",
      "source": [
        "n_alphas = 1000\n",
        "ridge_alphas = np.logspace(0.1, 200, n_alphas)\n",
        "ridge_cv = RidgeCV(alphas=ridge_alphas, scoring=\"neg_mean_squared_error\", cv=5)\n",
        "ridge_cv.fit(X_train, y_train)"
      ],
      "metadata": {
        "colab": {
          "base_uri": "https://localhost:8080/",
          "height": 252
        },
        "id": "g8ToRR2xoYhQ",
        "outputId": "3d69434c-2877-44f0-9e5a-5a33f69cef30"
      },
      "execution_count": 185,
      "outputs": [
        {
          "output_type": "execute_result",
          "data": {
            "text/plain": [
              "RidgeCV(alphas=array([1.25892541e+000, 1.99572225e+000, 3.16373574e+000, 5.01533908e+000,\n",
              "       7.95060908e+000, 1.26037709e+001, 1.99802354e+001, 3.16738387e+001,\n",
              "       5.02112231e+001, 7.95977700e+001, 1.26183044e+002, 2.00032748e+002,\n",
              "       3.17103621e+002, 5.02691222e+002, 7.96895550e+002, 1.26328547e+003,\n",
              "       2.00263408e+003, 3.17469276e+003, 5.03270880e+003, 7.97814457e+003,\n",
              "       1.264742...\n",
              "       1.57796766e+196, 2.50148670e+196, 3.96550314e+196, 6.28634770e+196,\n",
              "       9.96548635e+196, 1.57978723e+197, 2.50437119e+197, 3.97007580e+197,\n",
              "       6.29359655e+197, 9.97697764e+197, 1.58160890e+198, 2.50725900e+198,\n",
              "       3.97465373e+198, 6.30085375e+198, 9.98848219e+198, 1.58343266e+199,\n",
              "       2.51015015e+199, 3.97923694e+199, 6.30811933e+199, 1.00000000e+200]),\n",
              "        cv=5, scoring='neg_mean_squared_error')"
            ],
            "text/html": [
              "<style>#sk-container-id-15 {color: black;background-color: white;}#sk-container-id-15 pre{padding: 0;}#sk-container-id-15 div.sk-toggleable {background-color: white;}#sk-container-id-15 label.sk-toggleable__label {cursor: pointer;display: block;width: 100%;margin-bottom: 0;padding: 0.3em;box-sizing: border-box;text-align: center;}#sk-container-id-15 label.sk-toggleable__label-arrow:before {content: \"▸\";float: left;margin-right: 0.25em;color: #696969;}#sk-container-id-15 label.sk-toggleable__label-arrow:hover:before {color: black;}#sk-container-id-15 div.sk-estimator:hover label.sk-toggleable__label-arrow:before {color: black;}#sk-container-id-15 div.sk-toggleable__content {max-height: 0;max-width: 0;overflow: hidden;text-align: left;background-color: #f0f8ff;}#sk-container-id-15 div.sk-toggleable__content pre {margin: 0.2em;color: black;border-radius: 0.25em;background-color: #f0f8ff;}#sk-container-id-15 input.sk-toggleable__control:checked~div.sk-toggleable__content {max-height: 200px;max-width: 100%;overflow: auto;}#sk-container-id-15 input.sk-toggleable__control:checked~label.sk-toggleable__label-arrow:before {content: \"▾\";}#sk-container-id-15 div.sk-estimator input.sk-toggleable__control:checked~label.sk-toggleable__label {background-color: #d4ebff;}#sk-container-id-15 div.sk-label input.sk-toggleable__control:checked~label.sk-toggleable__label {background-color: #d4ebff;}#sk-container-id-15 input.sk-hidden--visually {border: 0;clip: rect(1px 1px 1px 1px);clip: rect(1px, 1px, 1px, 1px);height: 1px;margin: -1px;overflow: hidden;padding: 0;position: absolute;width: 1px;}#sk-container-id-15 div.sk-estimator {font-family: monospace;background-color: #f0f8ff;border: 1px dotted black;border-radius: 0.25em;box-sizing: border-box;margin-bottom: 0.5em;}#sk-container-id-15 div.sk-estimator:hover {background-color: #d4ebff;}#sk-container-id-15 div.sk-parallel-item::after {content: \"\";width: 100%;border-bottom: 1px solid gray;flex-grow: 1;}#sk-container-id-15 div.sk-label:hover label.sk-toggleable__label {background-color: #d4ebff;}#sk-container-id-15 div.sk-serial::before {content: \"\";position: absolute;border-left: 1px solid gray;box-sizing: border-box;top: 0;bottom: 0;left: 50%;z-index: 0;}#sk-container-id-15 div.sk-serial {display: flex;flex-direction: column;align-items: center;background-color: white;padding-right: 0.2em;padding-left: 0.2em;position: relative;}#sk-container-id-15 div.sk-item {position: relative;z-index: 1;}#sk-container-id-15 div.sk-parallel {display: flex;align-items: stretch;justify-content: center;background-color: white;position: relative;}#sk-container-id-15 div.sk-item::before, #sk-container-id-15 div.sk-parallel-item::before {content: \"\";position: absolute;border-left: 1px solid gray;box-sizing: border-box;top: 0;bottom: 0;left: 50%;z-index: -1;}#sk-container-id-15 div.sk-parallel-item {display: flex;flex-direction: column;z-index: 1;position: relative;background-color: white;}#sk-container-id-15 div.sk-parallel-item:first-child::after {align-self: flex-end;width: 50%;}#sk-container-id-15 div.sk-parallel-item:last-child::after {align-self: flex-start;width: 50%;}#sk-container-id-15 div.sk-parallel-item:only-child::after {width: 0;}#sk-container-id-15 div.sk-dashed-wrapped {border: 1px dashed gray;margin: 0 0.4em 0.5em 0.4em;box-sizing: border-box;padding-bottom: 0.4em;background-color: white;}#sk-container-id-15 div.sk-label label {font-family: monospace;font-weight: bold;display: inline-block;line-height: 1.2em;}#sk-container-id-15 div.sk-label-container {text-align: center;}#sk-container-id-15 div.sk-container {/* jupyter's `normalize.less` sets `[hidden] { display: none; }` but bootstrap.min.css set `[hidden] { display: none !important; }` so we also need the `!important` here to be able to override the default hidden behavior on the sphinx rendered scikit-learn.org. See: https://github.com/scikit-learn/scikit-learn/issues/21755 */display: inline-block !important;position: relative;}#sk-container-id-15 div.sk-text-repr-fallback {display: none;}</style><div id=\"sk-container-id-15\" class=\"sk-top-container\"><div class=\"sk-text-repr-fallback\"><pre>RidgeCV(alphas=array([1.25892541e+000, 1.99572225e+000, 3.16373574e+000, 5.01533908e+000,\n",
              "       7.95060908e+000, 1.26037709e+001, 1.99802354e+001, 3.16738387e+001,\n",
              "       5.02112231e+001, 7.95977700e+001, 1.26183044e+002, 2.00032748e+002,\n",
              "       3.17103621e+002, 5.02691222e+002, 7.96895550e+002, 1.26328547e+003,\n",
              "       2.00263408e+003, 3.17469276e+003, 5.03270880e+003, 7.97814457e+003,\n",
              "       1.264742...\n",
              "       1.57796766e+196, 2.50148670e+196, 3.96550314e+196, 6.28634770e+196,\n",
              "       9.96548635e+196, 1.57978723e+197, 2.50437119e+197, 3.97007580e+197,\n",
              "       6.29359655e+197, 9.97697764e+197, 1.58160890e+198, 2.50725900e+198,\n",
              "       3.97465373e+198, 6.30085375e+198, 9.98848219e+198, 1.58343266e+199,\n",
              "       2.51015015e+199, 3.97923694e+199, 6.30811933e+199, 1.00000000e+200]),\n",
              "        cv=5, scoring=&#x27;neg_mean_squared_error&#x27;)</pre><b>In a Jupyter environment, please rerun this cell to show the HTML representation or trust the notebook. <br />On GitHub, the HTML representation is unable to render, please try loading this page with nbviewer.org.</b></div><div class=\"sk-container\" hidden><div class=\"sk-item\"><div class=\"sk-estimator sk-toggleable\"><input class=\"sk-toggleable__control sk-hidden--visually\" id=\"sk-estimator-id-15\" type=\"checkbox\" checked><label for=\"sk-estimator-id-15\" class=\"sk-toggleable__label sk-toggleable__label-arrow\">RidgeCV</label><div class=\"sk-toggleable__content\"><pre>RidgeCV(alphas=array([1.25892541e+000, 1.99572225e+000, 3.16373574e+000, 5.01533908e+000,\n",
              "       7.95060908e+000, 1.26037709e+001, 1.99802354e+001, 3.16738387e+001,\n",
              "       5.02112231e+001, 7.95977700e+001, 1.26183044e+002, 2.00032748e+002,\n",
              "       3.17103621e+002, 5.02691222e+002, 7.96895550e+002, 1.26328547e+003,\n",
              "       2.00263408e+003, 3.17469276e+003, 5.03270880e+003, 7.97814457e+003,\n",
              "       1.264742...\n",
              "       1.57796766e+196, 2.50148670e+196, 3.96550314e+196, 6.28634770e+196,\n",
              "       9.96548635e+196, 1.57978723e+197, 2.50437119e+197, 3.97007580e+197,\n",
              "       6.29359655e+197, 9.97697764e+197, 1.58160890e+198, 2.50725900e+198,\n",
              "       3.97465373e+198, 6.30085375e+198, 9.98848219e+198, 1.58343266e+199,\n",
              "       2.51015015e+199, 3.97923694e+199, 6.30811933e+199, 1.00000000e+200]),\n",
              "        cv=5, scoring=&#x27;neg_mean_squared_error&#x27;)</pre></div></div></div></div></div>"
            ]
          },
          "metadata": {},
          "execution_count": 185
        }
      ]
    },
    {
      "cell_type": "code",
      "source": [
        "ridge_cv.alpha_"
      ],
      "metadata": {
        "colab": {
          "base_uri": "https://localhost:8080/"
        },
        "id": "8JkSpoHeqQE5",
        "outputId": "69a730b4-7e86-49f6-bf4c-f536b195094b"
      },
      "execution_count": 183,
      "outputs": [
        {
          "output_type": "execute_result",
          "data": {
            "text/plain": [
              "1.2589254117941673"
            ]
          },
          "metadata": {},
          "execution_count": 183
        }
      ]
    },
    {
      "cell_type": "code",
      "source": [
        "y_pred = ridge_cv.predict(X_test)\n",
        "print(mean_absolute_error(y_test, y_pred))"
      ],
      "metadata": {
        "colab": {
          "base_uri": "https://localhost:8080/"
        },
        "id": "tArSUhfLqUrW",
        "outputId": "99374f55-26c0-4cdb-ac60-b05ddfde4458"
      },
      "execution_count": 192,
      "outputs": [
        {
          "output_type": "stream",
          "name": "stdout",
          "text": [
            "62079.95319234667\n"
          ]
        }
      ]
    },
    {
      "cell_type": "code",
      "source": [
        "print(mean_squared_error(y_test, y_pred)) "
      ],
      "metadata": {
        "colab": {
          "base_uri": "https://localhost:8080/"
        },
        "id": "LiOnF3CZqboe",
        "outputId": "81ff5a0c-0905-430c-cae3-ac58292299c7"
      },
      "execution_count": 194,
      "outputs": [
        {
          "output_type": "stream",
          "name": "stdout",
          "text": [
            "6407536317.611926\n"
          ]
        }
      ]
    },
    {
      "cell_type": "markdown",
      "source": [
        "# XGBoost"
      ],
      "metadata": {
        "id": "ki7HM5wnrwT3"
      }
    },
    {
      "cell_type": "code",
      "source": [
        "from xgboost import XGBRegressor\n",
        "xgb = XGBRegressor(n_estimators=1000, max_depth=7)\n",
        "xgb.fit(X_train, y_train)"
      ],
      "metadata": {
        "colab": {
          "base_uri": "https://localhost:8080/",
          "height": 231
        },
        "id": "GutnS5W_r3CY",
        "outputId": "ee83e647-a4f2-497a-cfbe-505e01e3b4ce"
      },
      "execution_count": 197,
      "outputs": [
        {
          "output_type": "execute_result",
          "data": {
            "text/plain": [
              "XGBRegressor(base_score=0.5, booster='gbtree', callbacks=None,\n",
              "             colsample_bylevel=1, colsample_bynode=1, colsample_bytree=1,\n",
              "             early_stopping_rounds=None, enable_categorical=False,\n",
              "             eval_metric=None, feature_types=None, gamma=0, gpu_id=-1,\n",
              "             grow_policy='depthwise', importance_type=None,\n",
              "             interaction_constraints='', learning_rate=0.300000012, max_bin=256,\n",
              "             max_cat_threshold=64, max_cat_to_onehot=4, max_delta_step=0,\n",
              "             max_depth=7, max_leaves=0, min_child_weight=1, missing=nan,\n",
              "             monotone_constraints='()', n_estimators=1000, n_jobs=0,\n",
              "             num_parallel_tree=1, predictor='auto', random_state=0, ...)"
            ],
            "text/html": [
              "<style>#sk-container-id-16 {color: black;background-color: white;}#sk-container-id-16 pre{padding: 0;}#sk-container-id-16 div.sk-toggleable {background-color: white;}#sk-container-id-16 label.sk-toggleable__label {cursor: pointer;display: block;width: 100%;margin-bottom: 0;padding: 0.3em;box-sizing: border-box;text-align: center;}#sk-container-id-16 label.sk-toggleable__label-arrow:before {content: \"▸\";float: left;margin-right: 0.25em;color: #696969;}#sk-container-id-16 label.sk-toggleable__label-arrow:hover:before {color: black;}#sk-container-id-16 div.sk-estimator:hover label.sk-toggleable__label-arrow:before {color: black;}#sk-container-id-16 div.sk-toggleable__content {max-height: 0;max-width: 0;overflow: hidden;text-align: left;background-color: #f0f8ff;}#sk-container-id-16 div.sk-toggleable__content pre {margin: 0.2em;color: black;border-radius: 0.25em;background-color: #f0f8ff;}#sk-container-id-16 input.sk-toggleable__control:checked~div.sk-toggleable__content {max-height: 200px;max-width: 100%;overflow: auto;}#sk-container-id-16 input.sk-toggleable__control:checked~label.sk-toggleable__label-arrow:before {content: \"▾\";}#sk-container-id-16 div.sk-estimator input.sk-toggleable__control:checked~label.sk-toggleable__label {background-color: #d4ebff;}#sk-container-id-16 div.sk-label input.sk-toggleable__control:checked~label.sk-toggleable__label {background-color: #d4ebff;}#sk-container-id-16 input.sk-hidden--visually {border: 0;clip: rect(1px 1px 1px 1px);clip: rect(1px, 1px, 1px, 1px);height: 1px;margin: -1px;overflow: hidden;padding: 0;position: absolute;width: 1px;}#sk-container-id-16 div.sk-estimator {font-family: monospace;background-color: #f0f8ff;border: 1px dotted black;border-radius: 0.25em;box-sizing: border-box;margin-bottom: 0.5em;}#sk-container-id-16 div.sk-estimator:hover {background-color: #d4ebff;}#sk-container-id-16 div.sk-parallel-item::after {content: \"\";width: 100%;border-bottom: 1px solid gray;flex-grow: 1;}#sk-container-id-16 div.sk-label:hover label.sk-toggleable__label {background-color: #d4ebff;}#sk-container-id-16 div.sk-serial::before {content: \"\";position: absolute;border-left: 1px solid gray;box-sizing: border-box;top: 0;bottom: 0;left: 50%;z-index: 0;}#sk-container-id-16 div.sk-serial {display: flex;flex-direction: column;align-items: center;background-color: white;padding-right: 0.2em;padding-left: 0.2em;position: relative;}#sk-container-id-16 div.sk-item {position: relative;z-index: 1;}#sk-container-id-16 div.sk-parallel {display: flex;align-items: stretch;justify-content: center;background-color: white;position: relative;}#sk-container-id-16 div.sk-item::before, #sk-container-id-16 div.sk-parallel-item::before {content: \"\";position: absolute;border-left: 1px solid gray;box-sizing: border-box;top: 0;bottom: 0;left: 50%;z-index: -1;}#sk-container-id-16 div.sk-parallel-item {display: flex;flex-direction: column;z-index: 1;position: relative;background-color: white;}#sk-container-id-16 div.sk-parallel-item:first-child::after {align-self: flex-end;width: 50%;}#sk-container-id-16 div.sk-parallel-item:last-child::after {align-self: flex-start;width: 50%;}#sk-container-id-16 div.sk-parallel-item:only-child::after {width: 0;}#sk-container-id-16 div.sk-dashed-wrapped {border: 1px dashed gray;margin: 0 0.4em 0.5em 0.4em;box-sizing: border-box;padding-bottom: 0.4em;background-color: white;}#sk-container-id-16 div.sk-label label {font-family: monospace;font-weight: bold;display: inline-block;line-height: 1.2em;}#sk-container-id-16 div.sk-label-container {text-align: center;}#sk-container-id-16 div.sk-container {/* jupyter's `normalize.less` sets `[hidden] { display: none; }` but bootstrap.min.css set `[hidden] { display: none !important; }` so we also need the `!important` here to be able to override the default hidden behavior on the sphinx rendered scikit-learn.org. See: https://github.com/scikit-learn/scikit-learn/issues/21755 */display: inline-block !important;position: relative;}#sk-container-id-16 div.sk-text-repr-fallback {display: none;}</style><div id=\"sk-container-id-16\" class=\"sk-top-container\"><div class=\"sk-text-repr-fallback\"><pre>XGBRegressor(base_score=0.5, booster=&#x27;gbtree&#x27;, callbacks=None,\n",
              "             colsample_bylevel=1, colsample_bynode=1, colsample_bytree=1,\n",
              "             early_stopping_rounds=None, enable_categorical=False,\n",
              "             eval_metric=None, feature_types=None, gamma=0, gpu_id=-1,\n",
              "             grow_policy=&#x27;depthwise&#x27;, importance_type=None,\n",
              "             interaction_constraints=&#x27;&#x27;, learning_rate=0.300000012, max_bin=256,\n",
              "             max_cat_threshold=64, max_cat_to_onehot=4, max_delta_step=0,\n",
              "             max_depth=7, max_leaves=0, min_child_weight=1, missing=nan,\n",
              "             monotone_constraints=&#x27;()&#x27;, n_estimators=1000, n_jobs=0,\n",
              "             num_parallel_tree=1, predictor=&#x27;auto&#x27;, random_state=0, ...)</pre><b>In a Jupyter environment, please rerun this cell to show the HTML representation or trust the notebook. <br />On GitHub, the HTML representation is unable to render, please try loading this page with nbviewer.org.</b></div><div class=\"sk-container\" hidden><div class=\"sk-item\"><div class=\"sk-estimator sk-toggleable\"><input class=\"sk-toggleable__control sk-hidden--visually\" id=\"sk-estimator-id-16\" type=\"checkbox\" checked><label for=\"sk-estimator-id-16\" class=\"sk-toggleable__label sk-toggleable__label-arrow\">XGBRegressor</label><div class=\"sk-toggleable__content\"><pre>XGBRegressor(base_score=0.5, booster=&#x27;gbtree&#x27;, callbacks=None,\n",
              "             colsample_bylevel=1, colsample_bynode=1, colsample_bytree=1,\n",
              "             early_stopping_rounds=None, enable_categorical=False,\n",
              "             eval_metric=None, feature_types=None, gamma=0, gpu_id=-1,\n",
              "             grow_policy=&#x27;depthwise&#x27;, importance_type=None,\n",
              "             interaction_constraints=&#x27;&#x27;, learning_rate=0.300000012, max_bin=256,\n",
              "             max_cat_threshold=64, max_cat_to_onehot=4, max_delta_step=0,\n",
              "             max_depth=7, max_leaves=0, min_child_weight=1, missing=nan,\n",
              "             monotone_constraints=&#x27;()&#x27;, n_estimators=1000, n_jobs=0,\n",
              "             num_parallel_tree=1, predictor=&#x27;auto&#x27;, random_state=0, ...)</pre></div></div></div></div></div>"
            ]
          },
          "metadata": {},
          "execution_count": 197
        }
      ]
    },
    {
      "cell_type": "code",
      "source": [
        "y_pred = xgb.predict(X_test)\n",
        "print(mean_absolute_error(y_test, y_pred))"
      ],
      "metadata": {
        "colab": {
          "base_uri": "https://localhost:8080/"
        },
        "id": "dmzRBKY2t5aF",
        "outputId": "2ab0f55b-1dc5-4253-987d-a3c71a2c8ac7"
      },
      "execution_count": 198,
      "outputs": [
        {
          "output_type": "stream",
          "name": "stdout",
          "text": [
            "53760.3018261997\n"
          ]
        }
      ]
    },
    {
      "cell_type": "code",
      "source": [
        "print(mean_squared_error(y_test, y_pred))"
      ],
      "metadata": {
        "colab": {
          "base_uri": "https://localhost:8080/"
        },
        "id": "qOqNc06duQQr",
        "outputId": "47defea3-1b01-4c77-a6a2-c666a1579d18"
      },
      "execution_count": 199,
      "outputs": [
        {
          "output_type": "stream",
          "name": "stdout",
          "text": [
            "5159724944.954563\n"
          ]
        }
      ]
    },
    {
      "cell_type": "markdown",
      "source": [
        "# ElasticNet"
      ],
      "metadata": {
        "id": "M1Jxfu5Vr3zt"
      }
    },
    {
      "cell_type": "code",
      "source": [
        "from sklearn.linear_model import ElasticNetCV\n",
        "elastic_alphas = np.logspace(0.1, 200, n_alphas)\n",
        "elastic = ElasticNetCV(alphas=elastic_alphas, cv=5, random_state=17)\n",
        "elastic.fit(X_train,y_train)\n",
        "\n"
      ],
      "metadata": {
        "colab": {
          "base_uri": "https://localhost:8080/",
          "height": 252
        },
        "id": "YKa4U65fu542",
        "outputId": "403fd1d6-1ab9-416d-c0c1-2b66fb76a5ba"
      },
      "execution_count": 203,
      "outputs": [
        {
          "output_type": "execute_result",
          "data": {
            "text/plain": [
              "ElasticNetCV(alphas=array([1.25892541e+000, 1.99572225e+000, 3.16373574e+000, 5.01533908e+000,\n",
              "       7.95060908e+000, 1.26037709e+001, 1.99802354e+001, 3.16738387e+001,\n",
              "       5.02112231e+001, 7.95977700e+001, 1.26183044e+002, 2.00032748e+002,\n",
              "       3.17103621e+002, 5.02691222e+002, 7.96895550e+002, 1.26328547e+003,\n",
              "       2.00263408e+003, 3.17469276e+003, 5.03270880e+003, 7.97814457e+003,\n",
              "       1.2...\n",
              "       2.49860553e+195, 3.96093575e+195, 6.27910720e+195, 9.95400829e+195,\n",
              "       1.57796766e+196, 2.50148670e+196, 3.96550314e+196, 6.28634770e+196,\n",
              "       9.96548635e+196, 1.57978723e+197, 2.50437119e+197, 3.97007580e+197,\n",
              "       6.29359655e+197, 9.97697764e+197, 1.58160890e+198, 2.50725900e+198,\n",
              "       3.97465373e+198, 6.30085375e+198, 9.98848219e+198, 1.58343266e+199,\n",
              "       2.51015015e+199, 3.97923694e+199, 6.30811933e+199, 1.00000000e+200]),\n",
              "             cv=5, random_state=17)"
            ],
            "text/html": [
              "<style>#sk-container-id-17 {color: black;background-color: white;}#sk-container-id-17 pre{padding: 0;}#sk-container-id-17 div.sk-toggleable {background-color: white;}#sk-container-id-17 label.sk-toggleable__label {cursor: pointer;display: block;width: 100%;margin-bottom: 0;padding: 0.3em;box-sizing: border-box;text-align: center;}#sk-container-id-17 label.sk-toggleable__label-arrow:before {content: \"▸\";float: left;margin-right: 0.25em;color: #696969;}#sk-container-id-17 label.sk-toggleable__label-arrow:hover:before {color: black;}#sk-container-id-17 div.sk-estimator:hover label.sk-toggleable__label-arrow:before {color: black;}#sk-container-id-17 div.sk-toggleable__content {max-height: 0;max-width: 0;overflow: hidden;text-align: left;background-color: #f0f8ff;}#sk-container-id-17 div.sk-toggleable__content pre {margin: 0.2em;color: black;border-radius: 0.25em;background-color: #f0f8ff;}#sk-container-id-17 input.sk-toggleable__control:checked~div.sk-toggleable__content {max-height: 200px;max-width: 100%;overflow: auto;}#sk-container-id-17 input.sk-toggleable__control:checked~label.sk-toggleable__label-arrow:before {content: \"▾\";}#sk-container-id-17 div.sk-estimator input.sk-toggleable__control:checked~label.sk-toggleable__label {background-color: #d4ebff;}#sk-container-id-17 div.sk-label input.sk-toggleable__control:checked~label.sk-toggleable__label {background-color: #d4ebff;}#sk-container-id-17 input.sk-hidden--visually {border: 0;clip: rect(1px 1px 1px 1px);clip: rect(1px, 1px, 1px, 1px);height: 1px;margin: -1px;overflow: hidden;padding: 0;position: absolute;width: 1px;}#sk-container-id-17 div.sk-estimator {font-family: monospace;background-color: #f0f8ff;border: 1px dotted black;border-radius: 0.25em;box-sizing: border-box;margin-bottom: 0.5em;}#sk-container-id-17 div.sk-estimator:hover {background-color: #d4ebff;}#sk-container-id-17 div.sk-parallel-item::after {content: \"\";width: 100%;border-bottom: 1px solid gray;flex-grow: 1;}#sk-container-id-17 div.sk-label:hover label.sk-toggleable__label {background-color: #d4ebff;}#sk-container-id-17 div.sk-serial::before {content: \"\";position: absolute;border-left: 1px solid gray;box-sizing: border-box;top: 0;bottom: 0;left: 50%;z-index: 0;}#sk-container-id-17 div.sk-serial {display: flex;flex-direction: column;align-items: center;background-color: white;padding-right: 0.2em;padding-left: 0.2em;position: relative;}#sk-container-id-17 div.sk-item {position: relative;z-index: 1;}#sk-container-id-17 div.sk-parallel {display: flex;align-items: stretch;justify-content: center;background-color: white;position: relative;}#sk-container-id-17 div.sk-item::before, #sk-container-id-17 div.sk-parallel-item::before {content: \"\";position: absolute;border-left: 1px solid gray;box-sizing: border-box;top: 0;bottom: 0;left: 50%;z-index: -1;}#sk-container-id-17 div.sk-parallel-item {display: flex;flex-direction: column;z-index: 1;position: relative;background-color: white;}#sk-container-id-17 div.sk-parallel-item:first-child::after {align-self: flex-end;width: 50%;}#sk-container-id-17 div.sk-parallel-item:last-child::after {align-self: flex-start;width: 50%;}#sk-container-id-17 div.sk-parallel-item:only-child::after {width: 0;}#sk-container-id-17 div.sk-dashed-wrapped {border: 1px dashed gray;margin: 0 0.4em 0.5em 0.4em;box-sizing: border-box;padding-bottom: 0.4em;background-color: white;}#sk-container-id-17 div.sk-label label {font-family: monospace;font-weight: bold;display: inline-block;line-height: 1.2em;}#sk-container-id-17 div.sk-label-container {text-align: center;}#sk-container-id-17 div.sk-container {/* jupyter's `normalize.less` sets `[hidden] { display: none; }` but bootstrap.min.css set `[hidden] { display: none !important; }` so we also need the `!important` here to be able to override the default hidden behavior on the sphinx rendered scikit-learn.org. See: https://github.com/scikit-learn/scikit-learn/issues/21755 */display: inline-block !important;position: relative;}#sk-container-id-17 div.sk-text-repr-fallback {display: none;}</style><div id=\"sk-container-id-17\" class=\"sk-top-container\"><div class=\"sk-text-repr-fallback\"><pre>ElasticNetCV(alphas=array([1.25892541e+000, 1.99572225e+000, 3.16373574e+000, 5.01533908e+000,\n",
              "       7.95060908e+000, 1.26037709e+001, 1.99802354e+001, 3.16738387e+001,\n",
              "       5.02112231e+001, 7.95977700e+001, 1.26183044e+002, 2.00032748e+002,\n",
              "       3.17103621e+002, 5.02691222e+002, 7.96895550e+002, 1.26328547e+003,\n",
              "       2.00263408e+003, 3.17469276e+003, 5.03270880e+003, 7.97814457e+003,\n",
              "       1.2...\n",
              "       2.49860553e+195, 3.96093575e+195, 6.27910720e+195, 9.95400829e+195,\n",
              "       1.57796766e+196, 2.50148670e+196, 3.96550314e+196, 6.28634770e+196,\n",
              "       9.96548635e+196, 1.57978723e+197, 2.50437119e+197, 3.97007580e+197,\n",
              "       6.29359655e+197, 9.97697764e+197, 1.58160890e+198, 2.50725900e+198,\n",
              "       3.97465373e+198, 6.30085375e+198, 9.98848219e+198, 1.58343266e+199,\n",
              "       2.51015015e+199, 3.97923694e+199, 6.30811933e+199, 1.00000000e+200]),\n",
              "             cv=5, random_state=17)</pre><b>In a Jupyter environment, please rerun this cell to show the HTML representation or trust the notebook. <br />On GitHub, the HTML representation is unable to render, please try loading this page with nbviewer.org.</b></div><div class=\"sk-container\" hidden><div class=\"sk-item\"><div class=\"sk-estimator sk-toggleable\"><input class=\"sk-toggleable__control sk-hidden--visually\" id=\"sk-estimator-id-17\" type=\"checkbox\" checked><label for=\"sk-estimator-id-17\" class=\"sk-toggleable__label sk-toggleable__label-arrow\">ElasticNetCV</label><div class=\"sk-toggleable__content\"><pre>ElasticNetCV(alphas=array([1.25892541e+000, 1.99572225e+000, 3.16373574e+000, 5.01533908e+000,\n",
              "       7.95060908e+000, 1.26037709e+001, 1.99802354e+001, 3.16738387e+001,\n",
              "       5.02112231e+001, 7.95977700e+001, 1.26183044e+002, 2.00032748e+002,\n",
              "       3.17103621e+002, 5.02691222e+002, 7.96895550e+002, 1.26328547e+003,\n",
              "       2.00263408e+003, 3.17469276e+003, 5.03270880e+003, 7.97814457e+003,\n",
              "       1.2...\n",
              "       2.49860553e+195, 3.96093575e+195, 6.27910720e+195, 9.95400829e+195,\n",
              "       1.57796766e+196, 2.50148670e+196, 3.96550314e+196, 6.28634770e+196,\n",
              "       9.96548635e+196, 1.57978723e+197, 2.50437119e+197, 3.97007580e+197,\n",
              "       6.29359655e+197, 9.97697764e+197, 1.58160890e+198, 2.50725900e+198,\n",
              "       3.97465373e+198, 6.30085375e+198, 9.98848219e+198, 1.58343266e+199,\n",
              "       2.51015015e+199, 3.97923694e+199, 6.30811933e+199, 1.00000000e+200]),\n",
              "             cv=5, random_state=17)</pre></div></div></div></div></div>"
            ]
          },
          "metadata": {},
          "execution_count": 203
        }
      ]
    },
    {
      "cell_type": "code",
      "source": [
        "y_pred = elastic.predict(X_test)\n",
        "print(mean_absolute_error(y_test, y_pred))"
      ],
      "metadata": {
        "colab": {
          "base_uri": "https://localhost:8080/"
        },
        "id": "dsN7FLgcwBnk",
        "outputId": "057bc56f-513c-4cf8-d00c-d9b3cca4e26f"
      },
      "execution_count": 204,
      "outputs": [
        {
          "output_type": "stream",
          "name": "stdout",
          "text": [
            "75651.56442068842\n"
          ]
        }
      ]
    },
    {
      "cell_type": "code",
      "source": [
        "y_pred = elastic.predict(X_test)\n",
        "print(mean_squared_error(y_test, y_pred))"
      ],
      "metadata": {
        "colab": {
          "base_uri": "https://localhost:8080/"
        },
        "id": "aNjCk-hOwEJ6",
        "outputId": "f12866d1-f916-4182-e197-9c5c4b5a26f7"
      },
      "execution_count": 205,
      "outputs": [
        {
          "output_type": "stream",
          "name": "stdout",
          "text": [
            "9005680083.264063\n"
          ]
        }
      ]
    }
  ],
  "metadata": {
    "colab": {
      "provenance": [],
      "authorship_tag": "ABX9TyPrGakfiK0MBLHHpQX8Mu3t",
      "include_colab_link": true
    },
    "gpuClass": "standard",
    "kernelspec": {
      "display_name": "Python 3",
      "name": "python3"
    },
    "language_info": {
      "name": "python"
    },
    "accelerator": "GPU"
  },
  "nbformat": 4,
  "nbformat_minor": 0
}